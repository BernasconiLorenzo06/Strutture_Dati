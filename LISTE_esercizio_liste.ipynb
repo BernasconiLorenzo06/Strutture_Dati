{
  "nbformat": 4,
  "nbformat_minor": 0,
  "metadata": {
    "colab": {
      "provenance": [],
      "authorship_tag": "ABX9TyMHJxUN2wuLZ4kuSEruRPbK",
      "include_colab_link": true
    },
    "kernelspec": {
      "name": "python3",
      "display_name": "Python 3"
    },
    "language_info": {
      "name": "python"
    }
  },
  "cells": [
    {
      "cell_type": "markdown",
      "metadata": {
        "id": "view-in-github",
        "colab_type": "text"
      },
      "source": [
        "<a href=\"https://colab.research.google.com/github/BernasconiLorenzo06/Strutture_Dati/blob/main/LISTE_esercizio_liste.ipynb\" target=\"_parent\"><img src=\"https://colab.research.google.com/assets/colab-badge.svg\" alt=\"Open In Colab\"/></a>"
      ]
    },
    {
      "cell_type": "markdown",
      "source": [
        "Gli studenti di una classe si chiamano Luca, Carlo, Maria, Angela, Stefano e Davide e sono alti rispettivamente 1.80, 1.67, 1.75, 1.68, 1.81 e 1.78 m. Inoltre sappiamo che pesano 77, 48, 81, 55, 90 e 70 Kg\n",
        "\n",
        "1. inserire i dati in strutture dati opportune\n",
        "2. far inserire all'utente un nome e fornire il peso e l'altezza dello studente inserito\n",
        "3. visualizzare il nome dello studente più alto\n",
        "4. visualizzare il nome dello studente più magro\n",
        "5. far inserire il nome di uno studente e calcolare il suo IMC\n",
        "6. calcolare il peso medio degli studenti\n",
        "7. visualizzare il numero di studenti\n",
        "8. aggiungere lo studente Marco che pesa 76 Kg ed è alto 1.90\n",
        "9. eliminare le informazioni riguardanti Maria"
      ],
      "metadata": {
        "id": "2ESGUyhhRz_S"
      }
    },
    {
      "cell_type": "markdown",
      "source": [
        "inserire i dati in strutture dati opportune"
      ],
      "metadata": {
        "id": "ekfAgoSOTFnw"
      }
    },
    {
      "cell_type": "code",
      "source": [
        "nomi = [\"Luca\",\"Carlo\",\"Maria\",\"Angela\",\"Stefano\",\"Davide\"]\n",
        "altezza = [1.80, 1.67, 1.75, 1.68, 1.81,1.78]\n",
        "peso = [77, 48, 81, 55, 90,70]\n",
        "\n"
      ],
      "metadata": {
        "id": "-fMBtbp-R8BA"
      },
      "execution_count": null,
      "outputs": []
    },
    {
      "cell_type": "markdown",
      "source": [
        "far inserire all'utente un nome e fornire il peso e l'altezza dello studente inserito"
      ],
      "metadata": {
        "id": "DUBJu2tlS3XS"
      }
    },
    {
      "cell_type": "code",
      "source": [
        "nomeStudente = input(\"inserisci nome dello studente\")\n",
        "nomi.index(nomeStudente)\n",
        "print(altezza[nomi.index(nomeStudente)])\n",
        "print(peso[nomi.index(nomeStudente)])"
      ],
      "metadata": {
        "id": "EtNKCc-BS4m4"
      },
      "execution_count": null,
      "outputs": []
    },
    {
      "cell_type": "markdown",
      "source": [
        "\n",
        "visualizzare il nome dello studente più alto"
      ],
      "metadata": {
        "id": "fulWaCzVUi1Z"
      }
    },
    {
      "cell_type": "code",
      "source": [
        "\n",
        "altezzaMassima = max(altezza)\n",
        "print(altezzaMassima)\n",
        "posizioneAltezzaMassima = altezza.index(altezzaMassima)\n",
        "print(nomi[altezza.index(altezzaMassima)])"
      ],
      "metadata": {
        "id": "ulug92m_Un1w"
      },
      "execution_count": null,
      "outputs": []
    },
    {
      "cell_type": "markdown",
      "source": [
        "visualizzare il nome dello studente più magro"
      ],
      "metadata": {
        "id": "2-uwpduTWGBg"
      }
    },
    {
      "cell_type": "code",
      "source": [
        "pesoMinimo = min(peso)\n",
        "print(pesoMinimo)\n",
        "posizionePesoMinimo = peso.index(pesoMinimo)\n",
        "print(nomi[peso.index(pesoMinimo)])"
      ],
      "metadata": {
        "colab": {
          "base_uri": "https://localhost:8080/"
        },
        "id": "kV3uYBmWWGvw",
        "outputId": "0023a347-70bc-4772-ba4a-58e2b95c32c7"
      },
      "execution_count": null,
      "outputs": [
        {
          "output_type": "stream",
          "name": "stdout",
          "text": [
            "48\n",
            "Carlo\n"
          ]
        }
      ]
    },
    {
      "cell_type": "code",
      "source": [],
      "metadata": {
        "id": "X8Rmgcx-XEdI"
      },
      "execution_count": null,
      "outputs": []
    },
    {
      "cell_type": "markdown",
      "source": [
        "far inserire il nome di uno studente e calcolare il suo IMC"
      ],
      "metadata": {
        "id": "xFScByapWeZ7"
      }
    },
    {
      "cell_type": "code",
      "source": [
        "nomeStudente = input(\"inserisci nome dello studente:  \")\n",
        "IMC = (peso[nomi.index(nomeStudente)]) / ((altezza[nomi.index(nomeStudente)]) *(altezza[nomi.index(nomeStudente)]))\n",
        "print(IMC)"
      ],
      "metadata": {
        "colab": {
          "base_uri": "https://localhost:8080/"
        },
        "id": "gsvdZDufWjGc",
        "outputId": "b876570d-f9de-4c5c-f7ba-7607572d9f58"
      },
      "execution_count": null,
      "outputs": [
        {
          "output_type": "stream",
          "name": "stdout",
          "text": [
            "inserisci nome dello studente:  Carlo\n",
            "17.21108680841909\n"
          ]
        }
      ]
    },
    {
      "cell_type": "markdown",
      "source": [
        "calcolare il peso medio degli studenti"
      ],
      "metadata": {
        "id": "kp7iDVKKZH7w"
      }
    },
    {
      "cell_type": "code",
      "source": [
        "from statistics import mean\n",
        "print(mean(peso))\n"
      ],
      "metadata": {
        "colab": {
          "base_uri": "https://localhost:8080/"
        },
        "id": "ahnFKl2KZLCZ",
        "outputId": "8788572f-9627-4248-d336-ed1a11515b6d"
      },
      "execution_count": null,
      "outputs": [
        {
          "output_type": "stream",
          "name": "stdout",
          "text": [
            "70.16666666666667\n"
          ]
        }
      ]
    },
    {
      "cell_type": "markdown",
      "source": [
        "visualizzare il numero di studenti"
      ],
      "metadata": {
        "id": "dYeCXZvSZswQ"
      }
    },
    {
      "cell_type": "code",
      "source": [
        "len(nomi)"
      ],
      "metadata": {
        "colab": {
          "base_uri": "https://localhost:8080/"
        },
        "id": "8Rbid2EDZtOh",
        "outputId": "c6b74ae3-a128-486d-feb0-c36203826712"
      },
      "execution_count": null,
      "outputs": [
        {
          "output_type": "execute_result",
          "data": {
            "text/plain": [
              "6"
            ]
          },
          "metadata": {},
          "execution_count": 31
        }
      ]
    },
    {
      "cell_type": "code",
      "source": [
        "nomi.append(\"Marco\")\n",
        "altezza.append(1.90)\n",
        "peso.append(76)\n",
        "print(nomi)\n",
        "print(altezza)\n",
        "print(peso)"
      ],
      "metadata": {
        "colab": {
          "base_uri": "https://localhost:8080/"
        },
        "id": "06MSFA-LZ2EA",
        "outputId": "8eba9fb6-077e-429f-9450-8faa3e44f799"
      },
      "execution_count": null,
      "outputs": [
        {
          "output_type": "stream",
          "name": "stdout",
          "text": [
            "['Luca', 'Carlo', 'Maria', 'Angela', 'Stefano', 'Davide', 'Marco', 'Marco']\n",
            "[1.8, 1.67, 1.75, 1.68, 1.81, 1.78, 1.9, 1.9]\n",
            "[77, 48, 81, 55, 90, 70, 76, 76]\n"
          ]
        }
      ]
    },
    {
      "cell_type": "markdown",
      "source": [
        "eliminare le informazioni riguardanti Maria"
      ],
      "metadata": {
        "id": "0dwxSalbaVC3"
      }
    },
    {
      "cell_type": "code",
      "source": [
        "posizioneMaria = nomi.index(\"Maria\")\n",
        "nomi.pop(posizioneMaria)\n",
        "altezza.pop(posizioneMaria)\n",
        "peso.pop(posizioneMaria)\n",
        "print(nomi)\n",
        "print(altezza)\n",
        "print(peso)"
      ],
      "metadata": {
        "colab": {
          "base_uri": "https://localhost:8080/"
        },
        "id": "_7EwYKOyaXw_",
        "outputId": "4f45f3be-f2d3-4477-c5fb-7b9edc7b13d9"
      },
      "execution_count": null,
      "outputs": [
        {
          "output_type": "stream",
          "name": "stdout",
          "text": [
            "['Luca', 'Carlo', 'Angela', 'Stefano', 'Davide']\n",
            "[1.8, 1.67, 1.68, 1.81, 1.78]\n",
            "[77, 48, 55, 90, 70]\n"
          ]
        }
      ]
    }
  ]
}