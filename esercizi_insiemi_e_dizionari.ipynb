{
  "nbformat": 4,
  "nbformat_minor": 0,
  "metadata": {
    "colab": {
      "provenance": [],
      "authorship_tag": "ABX9TyMuXhW2sV/yu7ik5PYHGgXR",
      "include_colab_link": true
    },
    "kernelspec": {
      "name": "python3",
      "display_name": "Python 3"
    },
    "language_info": {
      "name": "python"
    }
  },
  "cells": [
    {
      "cell_type": "markdown",
      "metadata": {
        "id": "view-in-github",
        "colab_type": "text"
      },
      "source": [
        "<a href=\"https://colab.research.google.com/github/BernasconiLorenzo06/Strutture_Dati/blob/main/esercizi_insiemi_e_dizionari.ipynb\" target=\"_parent\"><img src=\"https://colab.research.google.com/assets/colab-badge.svg\" alt=\"Open In Colab\"/></a>"
      ]
    },
    {
      "cell_type": "markdown",
      "source": [
        "#ESERCIZI INSIEMI\n",
        "\n",
        "1. creare due insiemi con i tifosi delle nazionali dei mondiali: argentina = {\"loto\", \"milella\",\"gere\",\"dipace\"}, brasile = {\"loto\", \"berna\",\"dipace\",\"darienzo\"}\n",
        "2. creare un insieme che contenga tutti i tifosi senza duplicati\n",
        "3. creare un insieme con i tifosi che tifano entrambe le squadre\n",
        "4. contare quanti tifosi ci sono\n",
        "5. visualizzare sono i tifosi che tifano solo l'argentina\n",
        "6. visualizzare solo i tifosi che tifano solo il brasile\n",
        "7. aggiungere all'insieme argentina \"luca\"\n",
        "8. visualizzare \"presente\" se l'elemento \"armando\" è nell'insieme argentina, altrimenti visualizzare \"non presente\""
      ],
      "metadata": {
        "id": "c21Jdh5jN6yz"
      }
    },
    {
      "cell_type": "code",
      "source": [
        "tifosiArgentina = {\"loto\", \"milella\",\"gere\",\"dipace\"}\n",
        "tifosiBrasile = {\"loto\", \"berna\",\"dipace\",\"darienzo\"}\n",
        "print(tifosiArgentina)\n",
        "print(tifosiBrasile)"
      ],
      "metadata": {
        "colab": {
          "base_uri": "https://localhost:8080/"
        },
        "id": "q_ZkHuXkOgCE",
        "outputId": "be7a1daf-6ca9-46a5-9003-b4afc09bd13a"
      },
      "execution_count": null,
      "outputs": [
        {
          "output_type": "stream",
          "name": "stdout",
          "text": [
            "{'milella', 'gere', 'loto', 'dipace'}\n",
            "{'darienzo', 'dipace', 'loto', 'berna'}\n"
          ]
        }
      ]
    },
    {
      "cell_type": "code",
      "source": [
        "#2\n",
        "setNONDUPLICATI = tifosiArgentina.symmetric_difference(tifosiBrasile)\n",
        "print(setNONDUPLICATI)"
      ],
      "metadata": {
        "colab": {
          "base_uri": "https://localhost:8080/"
        },
        "id": "R68ogeNGqWly",
        "outputId": "d717efeb-775d-404e-f218-5ccfb73ebbc2"
      },
      "execution_count": null,
      "outputs": [
        {
          "output_type": "stream",
          "name": "stdout",
          "text": [
            "{'darienzo', 'milella', 'berna', 'gere'}\n"
          ]
        }
      ]
    },
    {
      "cell_type": "code",
      "source": [
        "#3\n",
        "set3 = tifosiArgentina.union(tifosiBrasile)\n",
        "set3"
      ],
      "metadata": {
        "colab": {
          "base_uri": "https://localhost:8080/"
        },
        "id": "FXjYFHfGrLkS",
        "outputId": "e3960f12-796f-4b21-bbea-16ee17dc8d2e"
      },
      "execution_count": null,
      "outputs": [
        {
          "output_type": "execute_result",
          "data": {
            "text/plain": [
              "{'berna', 'darienzo', 'dipace', 'gere', 'loto', 'milella'}"
            ]
          },
          "metadata": {},
          "execution_count": 32
        }
      ]
    },
    {
      "cell_type": "code",
      "source": [
        "#4\n",
        "set1 = tifosiArgentina.intersection(tifosiBrasile)\n",
        "set1"
      ],
      "metadata": {
        "colab": {
          "base_uri": "https://localhost:8080/"
        },
        "id": "xT1X8qn1rYoh",
        "outputId": "b8953467-6b4d-4108-99fe-8f4a3d495c85"
      },
      "execution_count": null,
      "outputs": [
        {
          "output_type": "execute_result",
          "data": {
            "text/plain": [
              "{'dipace', 'loto'}"
            ]
          },
          "metadata": {},
          "execution_count": 33
        }
      ]
    },
    {
      "cell_type": "code",
      "source": [
        "#5\n",
        "len(set3)"
      ],
      "metadata": {
        "id": "41HMy5mqrlni"
      },
      "execution_count": null,
      "outputs": []
    },
    {
      "cell_type": "code",
      "source": [
        "#6 \n",
        "Argentina = tifosiArgentina.difference(tifosiBrasile)\n",
        "Argentina"
      ],
      "metadata": {
        "id": "XK693PRoruo5"
      },
      "execution_count": null,
      "outputs": []
    },
    {
      "cell_type": "code",
      "source": [
        "#7\n",
        "Brasile = tifosiArgentina.difference(tifosiBrasile)\n",
        "Brasile"
      ],
      "metadata": {
        "id": "aRftxuPPsxDJ"
      },
      "execution_count": null,
      "outputs": []
    },
    {
      "cell_type": "code",
      "source": [
        "#8\n",
        "tifosiArgentina.add(\"luca\")\n",
        "print(tifosiArgentina)"
      ],
      "metadata": {
        "id": "FHQO6KQTs7j5"
      },
      "execution_count": null,
      "outputs": []
    },
    {
      "cell_type": "code",
      "source": [
        "#9\n",
        "if \"armando\" in tifosiArgentina:\n",
        "  print(\"è presente\")\n",
        "else:\n",
        "  print(\"non è presente\")"
      ],
      "metadata": {
        "id": "NGsr7nPVtTNb"
      },
      "execution_count": null,
      "outputs": []
    },
    {
      "cell_type": "code",
      "source": [
        "insieme = {1,34,65,344,21,4,134122}\n",
        "sum(insieme)"
      ],
      "metadata": {
        "id": "shTBUmMWxWfR"
      },
      "execution_count": null,
      "outputs": []
    },
    {
      "cell_type": "markdown",
      "source": [
        "#ESERCIZI DIZIONARI\n",
        "1. creare un dizionario composto dalle seguenti chiavi:(via\n",
        "zona\n",
        "città)\n",
        "2. visualizzare sono le chiavi del dizionario\n",
        "3. visualizzare le coppie di chiave- valore (senza fare print(dizionario))\n",
        "4. aggiungere al dizionario la chiave: nome: \"pizzeria\"\n",
        "5. visualizzare il valore della chiave città\n",
        "\n",
        "\n",
        "LISTA DI DIZIONARI\n",
        "1. creare una lista che contenga tre dizionari. Ognuno di essi deve contenere tre chiavi: nome, cognome ed età\n",
        "2. visualizzare tutti i nomi\n",
        "3. visualizzare solo i nomi dei maggiorenni\n",
        "4. visualizzare il cognome dal nome inserito dall'utente"
      ],
      "metadata": {
        "id": "x3Y_21IPRrya"
      }
    },
    {
      "cell_type": "code",
      "source": [
        "DICT = [\n",
        "    {\n",
        "     \"nome\":\"Lorenzo\",\n",
        "     \"cognome\":\"Bernasconi\",\n",
        "     \"eta\":16\n",
        "    },\n",
        "    {\n",
        "      \"nome\":\"Filippo\",\n",
        "     \"cognome\":\"Grassi\",\n",
        "     \"eta\":17  \n",
        "    },\n",
        "    {\n",
        "       \"nome\":\"RiccarDIO\",\n",
        "     \"cognome\":\"Lotorto\",\n",
        "     \"eta\":20   \n",
        "    }\n",
        "]"
      ],
      "metadata": {
        "id": "8FOhECpmbnnm"
      },
      "execution_count": null,
      "outputs": []
    },
    {
      "cell_type": "code",
      "source": [
        "for indice in range(len(DICT)):\n",
        "  print(DICT[indice][\"nome\"])\n"
      ],
      "metadata": {
        "colab": {
          "base_uri": "https://localhost:8080/"
        },
        "id": "SAH8TEP-cpmy",
        "outputId": "2578325f-20dc-4fca-bfb8-8d83397261a4"
      },
      "execution_count": null,
      "outputs": [
        {
          "output_type": "stream",
          "name": "stdout",
          "text": [
            "Lorenzo\n",
            "Filippo\n",
            "RiccarDIO\n"
          ]
        }
      ]
    },
    {
      "cell_type": "code",
      "source": [
        "for indice in range(len(DICT)):\n",
        "  if DICT[indice][\"eta\"] > 18:\n",
        "      print(DICT[indice][\"nome\"])\n"
      ],
      "metadata": {
        "id": "KfQ5g1WIdah4"
      },
      "execution_count": null,
      "outputs": []
    },
    {
      "cell_type": "code",
      "source": [
        "nome = input(\"Insrire un nome \")\n",
        "for indice in range(len(DICT)):\n",
        "  if DICT[indice][\"nome\"] == nome:\n",
        "    print(DICT[indice][\"cognome\"])"
      ],
      "metadata": {
        "id": "lPqSjzVPdrj2"
      },
      "execution_count": null,
      "outputs": []
    },
    {
      "cell_type": "code",
      "source": [
        "Dizionario = {\n",
        "    \"via\":\"Via Italo Calvino 8\",\n",
        "    \"Zona\":\"Affori\",\n",
        "    \"Citta\":{1,12,3,4,5,6}\n",
        "}"
      ],
      "metadata": {
        "id": "zvHwFGc0-KAE"
      },
      "execution_count": null,
      "outputs": []
    },
    {
      "cell_type": "code",
      "source": [
        "#2\n",
        "for key in Dizionario.keys():\n",
        "  print(key)"
      ],
      "metadata": {
        "id": "ryxNto5uaMcw"
      },
      "execution_count": null,
      "outputs": []
    },
    {
      "cell_type": "code",
      "source": [
        "#3\n",
        "for key, value in Dizionario.items():\n",
        "  print(key, '-', value)"
      ],
      "metadata": {
        "id": "z8ZVPL5Oaecu"
      },
      "execution_count": null,
      "outputs": []
    },
    {
      "cell_type": "code",
      "source": [
        "#4\n",
        "Dizionario['nome'] = 'pizzeria'\n",
        "Dizionario"
      ],
      "metadata": {
        "id": "maa0d4ljaeQz"
      },
      "execution_count": null,
      "outputs": []
    },
    {
      "cell_type": "code",
      "source": [
        "Dizionario[\"Citta\"]"
      ],
      "metadata": {
        "id": "GYR7Xg01bHw5"
      },
      "execution_count": null,
      "outputs": []
    },
    {
      "cell_type": "code",
      "source": [
        "Dizionario.get(\"Citta\")"
      ],
      "metadata": {
        "id": "4jUMWd18bWm6"
      },
      "execution_count": null,
      "outputs": []
    },
    {
      "cell_type": "code",
      "source": [
        "Dizionario[\"Citta\"]"
      ],
      "metadata": {
        "id": "vcGzzIxqbmRq",
        "colab": {
          "base_uri": "https://localhost:8080/"
        },
        "outputId": "bc1cdca7-fc9d-437e-ab36-77bb34551a15"
      },
      "execution_count": null,
      "outputs": [
        {
          "output_type": "execute_result",
          "data": {
            "text/plain": [
              "{1, 3, 4, 5, 6, 12}"
            ]
          },
          "metadata": {},
          "execution_count": 17
        }
      ]
    },
    {
      "cell_type": "code",
      "source": [
        "DICTI = {\n",
        "    \"nome\":\"Giovanni\",\n",
        "    \"sesso\":\"Qualche volta\",\n",
        "    \"eta\":20\n",
        "}"
      ],
      "metadata": {
        "id": "PpzhOy2GB3JC"
      },
      "execution_count": null,
      "outputs": []
    },
    {
      "cell_type": "code",
      "source": [
        "# visualizzare tutti i valori\n",
        "for key,value in DICTI.items():\n",
        "  print(key,\"-\",value)"
      ],
      "metadata": {
        "id": "G4AG6LEmCN7U"
      },
      "execution_count": null,
      "outputs": []
    },
    {
      "cell_type": "code",
      "source": [
        "#visualizzare la chiave del valore nome\n",
        "DICTI.get(\"nome\")"
      ],
      "metadata": {
        "id": "PdZxQ8FlCUGV"
      },
      "execution_count": null,
      "outputs": []
    },
    {
      "cell_type": "code",
      "source": [
        "# visualizzare se Giovanni è  o meno maggiorenne\n",
        "eta = DICTI.get(\"eta\")\n",
        "if eta > 18:\n",
        "  print(\"Giovanni è maggiorenne\")\n",
        "else:\n",
        "  print(\"Giovanni non è maggiorenne\")"
      ],
      "metadata": {
        "id": "rIvJt6bVCYZK"
      },
      "execution_count": null,
      "outputs": []
    },
    {
      "cell_type": "code",
      "source": [
        "Dizionarione = [\n",
        "    {\n",
        "    \"nome\":\"Giovanni\",\n",
        "    \"cognome\":\"Rossi\",\n",
        "     \"numero di telefono\":[121321321312,46456456,87978987],\n",
        "     \"genitori\": {\n",
        "          \"mamma\":\"Paola\",\n",
        "          \"papa\":\"Luca\"\n",
        "      }\n",
        "    },\n",
        "    {\n",
        "      \"nome\":\"Pino\",\n",
        "    \"cognome\":\"Abete\",\n",
        "     \"numero di telefono\":[12099999,561111116,87900000]\n",
        "    },\n",
        "    {\n",
        "      \"nome\":\"Daria\",\n",
        "    \"cognome\":\"Tromba\",\n",
        "     \"numero di telefono\":[121111111,588888816,800]    \n",
        "    },\n",
        "]"
      ],
      "metadata": {
        "id": "ndodLByODMmO"
      },
      "execution_count": null,
      "outputs": []
    },
    {
      "cell_type": "code",
      "source": [
        "#visualizzare il nome del papa di Giovanni\n",
        "Dizionarione[0][\"genitori\"][\"papa\"]"
      ],
      "metadata": {
        "colab": {
          "base_uri": "https://localhost:8080/",
          "height": 36
        },
        "id": "Q-2sCSI8Gnuj",
        "outputId": "0fc66d5c-48dc-4b1d-9f96-cee1074ac5df"
      },
      "execution_count": null,
      "outputs": [
        {
          "output_type": "execute_result",
          "data": {
            "text/plain": [
              "'Luca'"
            ],
            "application/vnd.google.colaboratory.intrinsic+json": {
              "type": "string"
            }
          },
          "metadata": {},
          "execution_count": 22
        }
      ]
    },
    {
      "cell_type": "code",
      "source": [
        "#visualizzare tutti i cognomi\n",
        "for indice in range(len(Dizionarione)):\n",
        "  print(Dizionarione[indice][\"cognome\"])"
      ],
      "metadata": {
        "id": "EN6tBgi5EYr8"
      },
      "execution_count": null,
      "outputs": []
    },
    {
      "cell_type": "code",
      "source": [
        "#visualizzare i telefoni del nome inserito dall'utente\n",
        "nomeBello = input(\"inserire un nome   \")\n",
        "for ind in range(len(Dizionarione)):\n",
        "  if Dizionarione[ind][\"nome\"] == nomeBello:\n",
        "    print(Dizionarione[ind][\"numero di telefono\"][0])\n"
      ],
      "metadata": {
        "id": "SirIuJ_HFHc7"
      },
      "execution_count": null,
      "outputs": []
    },
    {
      "cell_type": "markdown",
      "source": [
        "#LISTE\n",
        "Gli studenti di una classe si chiamano Luca, Carlo, Maria, Angela, Stefano e Davide e sono alti rispettivamente 1.80, 1.67, 1.75, 1.68, 1.81 e 1.78 m. Inoltre sappiamo che pesano 77, 48, 81, 55, 90 e 70 Kg\n",
        "\n",
        "1. inserire i dati in strutture dati opportune\n",
        "2. far inserire all'utente un nome e fornire il peso e l'altezza dello studente inserito\n",
        "3. visualizzare il nome dello studente più alto\n",
        "4. visualizzare il nome dello studente più magro\n",
        "5. far inserire il nome di uno studente e calcolare il suo IMC\n",
        "6. calcolare il peso medio degli studenti\n",
        "7. visualizzare il numero di studenti\n",
        "8. aggiungere lo studente Marco che pesa 76 Kg ed è alto 1.90\n",
        "9. eliminare le informazioni riguardanti Maria"
      ],
      "metadata": {
        "id": "Bl2Rbv2HAy_s"
      }
    },
    {
      "cell_type": "code",
      "source": [
        "Nome = [\"Luca\",\"Carlo\",\"Maria\",\"Angela\",\"Stefano\",\"Davide\",]\n",
        "Altezza = [1.80,1.67,1.75,1.68,1.81,1.78]\n",
        "Peso = [77,48,81,55,90,70]\n",
        "print(Nome)\n",
        "print(Altezza)\n",
        "print(Peso)"
      ],
      "metadata": {
        "colab": {
          "base_uri": "https://localhost:8080/"
        },
        "id": "IjmosUJ2A5A6",
        "outputId": "625b9eea-5c88-4aa5-b6ed-f48e251db786"
      },
      "execution_count": null,
      "outputs": [
        {
          "output_type": "stream",
          "name": "stdout",
          "text": [
            "['Luca', 'Carlo', 'Maria', 'Angela', 'Stefano', 'Davide']\n",
            "[1.8, 1.67, 1.75, 1.68, 1.81, 1.78]\n",
            "[77, 48, 81, 55, 90, 70]\n"
          ]
        }
      ]
    },
    {
      "cell_type": "code",
      "source": [
        "nome = input(\"Inserire il nome    \")\n",
        "for indice in range (len(Nome)):\n",
        "  if nome == Nome[indice]:\n",
        "    print(Peso[Nome.index(nome)])\n",
        "    print(Altezza[Nome.index(nome)])\n"
      ],
      "metadata": {
        "colab": {
          "base_uri": "https://localhost:8080/"
        },
        "id": "HMHMgrCAB3-S",
        "outputId": "51d72145-e861-48d0-94bb-7697a28d40a1"
      },
      "execution_count": null,
      "outputs": [
        {
          "output_type": "stream",
          "name": "stdout",
          "text": [
            "Inserire il nome    Luca\n",
            "77\n",
            "1.8\n"
          ]
        }
      ]
    },
    {
      "cell_type": "code",
      "source": [
        "maxAltezza = max(Altezza)\n",
        "print(maxAltezza)\n",
        "print(Nome[Altezza.index(maxAltezza)])"
      ],
      "metadata": {
        "id": "7lZnHs2TDD_a"
      },
      "execution_count": null,
      "outputs": []
    },
    {
      "cell_type": "code",
      "source": [
        "MinimoPeso = min(Peso)\n",
        "print(MinimoPeso)\n",
        "print(Nome[Peso.index(MinimoPeso)])"
      ],
      "metadata": {
        "id": "KXh8T8hsEEMV"
      },
      "execution_count": null,
      "outputs": []
    },
    {
      "cell_type": "code",
      "source": [
        "nome = input(\"Inserire il nome    \")\n",
        "IMC = Peso[nome] / (Altezza[nome] * Altezza[nome])\n"
      ],
      "metadata": {
        "id": "7VlHkjdYEZo-",
        "colab": {
          "base_uri": "https://localhost:8080/",
          "height": 200
        },
        "outputId": "341a956f-4f1e-485c-c9ff-f64870861740"
      },
      "execution_count": null,
      "outputs": [
        {
          "name": "stdout",
          "output_type": "stream",
          "text": [
            "Inserire il nome    Luca\n"
          ]
        },
        {
          "output_type": "error",
          "ename": "TypeError",
          "evalue": "ignored",
          "traceback": [
            "\u001b[0;31m---------------------------------------------------------------------------\u001b[0m",
            "\u001b[0;31mTypeError\u001b[0m                                 Traceback (most recent call last)",
            "\u001b[0;32m<ipython-input-7-5d526ad63cf9>\u001b[0m in \u001b[0;36m<module>\u001b[0;34m\u001b[0m\n\u001b[1;32m      1\u001b[0m \u001b[0mnome\u001b[0m \u001b[0;34m=\u001b[0m \u001b[0minput\u001b[0m\u001b[0;34m(\u001b[0m\u001b[0;34m\"Inserire il nome    \"\u001b[0m\u001b[0;34m)\u001b[0m\u001b[0;34m\u001b[0m\u001b[0;34m\u001b[0m\u001b[0m\n\u001b[0;32m----> 2\u001b[0;31m \u001b[0mIMC\u001b[0m \u001b[0;34m=\u001b[0m \u001b[0mPeso\u001b[0m\u001b[0;34m[\u001b[0m\u001b[0mnome\u001b[0m\u001b[0;34m]\u001b[0m \u001b[0;34m/\u001b[0m \u001b[0;34m(\u001b[0m\u001b[0mAltezza\u001b[0m\u001b[0;34m[\u001b[0m\u001b[0mnome\u001b[0m\u001b[0;34m]\u001b[0m \u001b[0;34m*\u001b[0m \u001b[0mAltezza\u001b[0m\u001b[0;34m[\u001b[0m\u001b[0mnome\u001b[0m\u001b[0;34m]\u001b[0m\u001b[0;34m)\u001b[0m\u001b[0;34m\u001b[0m\u001b[0;34m\u001b[0m\u001b[0m\n\u001b[0m",
            "\u001b[0;31mTypeError\u001b[0m: list indices must be integers or slices, not str"
          ]
        }
      ]
    },
    {
      "cell_type": "code",
      "source": [
        "from statistics import mean\n",
        "mean(Peso)"
      ],
      "metadata": {
        "id": "ipq3Sqw_FHF7"
      },
      "execution_count": null,
      "outputs": []
    },
    {
      "cell_type": "code",
      "source": [
        "len(Nome)"
      ],
      "metadata": {
        "id": "-hA3KD3YFgtF"
      },
      "execution_count": null,
      "outputs": []
    },
    {
      "cell_type": "code",
      "source": [
        "Nome.append(\"Marco\")\n",
        "Altezza.append(1.90)\n",
        "Peso.append(76)\n",
        "print(Nome)\n",
        "print(Altezza)\n",
        "print(Peso)"
      ],
      "metadata": {
        "id": "Rn-4xrb5F1IL"
      },
      "execution_count": null,
      "outputs": []
    },
    {
      "cell_type": "code",
      "source": [
        "Nome.remove(\"Maria\")\n",
        "Altezza.remove(1.75)\n",
        "Peso.remove(81)\n",
        "print(Nome)\n",
        "print(Altezza)\n",
        "print(Peso)"
      ],
      "metadata": {
        "colab": {
          "base_uri": "https://localhost:8080/"
        },
        "id": "YaOBbpr0GqeH",
        "outputId": "7c9d9bc4-b444-4a19-edb5-3d45cdca9755"
      },
      "execution_count": null,
      "outputs": [
        {
          "output_type": "stream",
          "name": "stdout",
          "text": [
            "['Luca', 'Carlo', 'Angela', 'Stefano', 'Davide']\n",
            "[1.8, 1.67, 1.68, 1.81, 1.78]\n",
            "[77, 48, 55, 90, 70]\n"
          ]
        }
      ]
    },
    {
      "cell_type": "code",
      "source": [
        "# creare due liste, e fare la somma deglie lementio mettendoli in un altra lista usaNDO LA LISTA COMPREHNISON\n",
        "lista1 = [3,7,56,3,89,12,11,1,6]\n",
        "lista2 = [4,9,6,78,43,3,22,23,5,70]\n",
        "listaSomma = [lista1[ind] + lista2[ind] for ind in range(len(lista1))]\n",
        "listaSomma"
      ],
      "metadata": {
        "id": "8cYT5GA9uIxR"
      },
      "execution_count": null,
      "outputs": []
    },
    {
      "cell_type": "code",
      "source": [
        "Multipli = [num for num in range(100) if num % 5 == 0]\n",
        "Multipli"
      ],
      "metadata": {
        "colab": {
          "base_uri": "https://localhost:8080/"
        },
        "id": "Yn-p_FYMv3X-",
        "outputId": "9d6fc2b2-373d-4486-e85d-b6a738b94d32"
      },
      "execution_count": null,
      "outputs": [
        {
          "output_type": "execute_result",
          "data": {
            "text/plain": [
              "[0, 5, 10, 15, 20, 25, 30, 35, 40, 45, 50, 55, 60, 65, 70, 75, 80, 85, 90, 95]"
            ]
          },
          "metadata": {},
          "execution_count": 12
        }
      ]
    },
    {
      "cell_type": "code",
      "source": [
        "#creare una lista casuale e vicualizxzare solo i multipli di 5\n"
      ],
      "metadata": {
        "id": "PYnbrhU9vJTh"
      },
      "execution_count": null,
      "outputs": []
    },
    {
      "cell_type": "markdown",
      "source": [
        "1. Inizializzare una lista con 8, 18, 27, -8, 51, 40, -9, -76\n",
        "2. Aggiungere in fondo alla lista i valori 7, 4, 95\n",
        "3. Aggiungere all'inizio della lista i valori 7, 4, 95\n",
        "4. Visualizzare il numero di elementi della lista\n",
        "5. Aggiungere in quarta posizione il valore 100\n",
        "6. Eliminare il terzultimo elemento della lista\n",
        "7. Visualizzare il valore massimo, minimo della lista\n",
        "8. Calcolare la somma degli elementi della lista\n",
        "9. Calcolare la media degli elementi della lista\n",
        "10. Rimuovere dalla lista il numero 7\n",
        "11. Ordinare la lista in ordine decrescente\n",
        "12. Eliminare dalla lista il numero più alto e il numero più basso\n",
        "13. Visualizzare gli elementi di posto pari\n",
        "14. Visualizzare gli elementi di posto dispari\n",
        "15. Visualizzare i primi 5 elementi \n",
        "16. Visualizzare gli ultimi 5 elementi\n",
        "17. Visualizzare i 5 elementi centrali\n",
        "18. Rimuovere i duplicati presenti nella lista"
      ],
      "metadata": {
        "id": "uNuSO6R3HrRN"
      }
    },
    {
      "cell_type": "code",
      "source": [
        "lista = [8,18,27,-8,51,40,-9,-76]\n",
        "print(lista)"
      ],
      "metadata": {
        "colab": {
          "base_uri": "https://localhost:8080/"
        },
        "id": "my-34eeVHwUK",
        "outputId": "fe7096b0-95f3-4a2a-c0a6-cf244326f06a"
      },
      "execution_count": null,
      "outputs": [
        {
          "output_type": "stream",
          "name": "stdout",
          "text": [
            "[8, 18, 27, -8, 51, 40, -9, -76]\n"
          ]
        }
      ]
    },
    {
      "cell_type": "code",
      "source": [
        "lista.extend([7,4,95])\n",
        "print(lista)"
      ],
      "metadata": {
        "colab": {
          "base_uri": "https://localhost:8080/"
        },
        "id": "Zx7l42fQI7_t",
        "outputId": "ffa20e2b-989e-41c2-b78e-96c7010b99e0"
      },
      "execution_count": null,
      "outputs": [
        {
          "output_type": "stream",
          "name": "stdout",
          "text": [
            "[8, 18, 27, -8, 51, 40, -9, -76, 7, 4, 95]\n"
          ]
        }
      ]
    },
    {
      "cell_type": "code",
      "source": [
        "lista.insert(0,4)\n",
        "lista.insert(1,7)\n",
        "lista.insert(2,95)\n",
        "print(lista)"
      ],
      "metadata": {
        "id": "b7Fe7J_dKBDy"
      },
      "execution_count": null,
      "outputs": []
    },
    {
      "cell_type": "code",
      "source": [
        "list1 = [4,7,95]\n",
        "lista = list1 + lista\n",
        "print(lista)"
      ],
      "metadata": {
        "colab": {
          "base_uri": "https://localhost:8080/"
        },
        "id": "2EGAlxiOYBwB",
        "outputId": "fa1b90a4-d0a0-46cd-8cea-91480d806789"
      },
      "execution_count": null,
      "outputs": [
        {
          "output_type": "stream",
          "name": "stdout",
          "text": [
            "[4, 7, 95, 4, 7, 95, 8, 18, 27, -8, 51, 40, -9, -76, 7, 4, 95]\n"
          ]
        }
      ]
    },
    {
      "cell_type": "code",
      "source": [],
      "metadata": {
        "id": "mTe8B0BntsE5"
      },
      "execution_count": null,
      "outputs": []
    },
    {
      "cell_type": "code",
      "source": [
        "lista[(len(lista)//2)-2:(len(lista)//2)+3]"
      ],
      "metadata": {
        "colab": {
          "base_uri": "https://localhost:8080/"
        },
        "id": "UcVk0T2LKbBM",
        "outputId": "93ab1c32-bb7a-4a01-c08a-0cfa81e72827"
      },
      "execution_count": null,
      "outputs": [
        {
          "output_type": "execute_result",
          "data": {
            "text/plain": [
              "[8, 18, 27, -8, 51]"
            ]
          },
          "metadata": {},
          "execution_count": 45
        }
      ]
    },
    {
      "cell_type": "code",
      "source": [
        "#inserire in una lista 100 numeri casuali compresi fra 10 e 200\n",
        "import random\n",
        "listaCasuale = [random.randint(10,200) for x in range(100)]\n",
        "print(listaCasuale)"
      ],
      "metadata": {
        "colab": {
          "base_uri": "https://localhost:8080/"
        },
        "id": "QESEzdPy4egF",
        "outputId": "e150f953-2db5-457f-b851-77eeb473896f"
      },
      "execution_count": null,
      "outputs": [
        {
          "output_type": "stream",
          "name": "stdout",
          "text": [
            "[113, 47, 191, 125, 52, 21, 127, 154, 27, 108, 41, 145, 172, 180, 73, 199, 61, 198, 27, 116, 148, 72, 173, 65, 119, 147, 100, 82, 84, 22, 51, 136, 70, 154, 156, 61, 117, 104, 99, 181, 69, 98, 104, 107, 132, 34, 115, 46, 44, 49, 72, 186, 142, 31, 69, 142, 18, 25, 12, 58, 125, 121, 169, 120, 71, 194, 177, 117, 57, 73, 96, 106, 44, 42, 94, 107, 17, 50, 50, 31, 107, 64, 71, 177, 179, 152, 70, 32, 45, 182, 53, 85, 113, 27, 56, 80, 156, 119, 114, 59]\n"
          ]
        }
      ]
    },
    {
      "cell_type": "code",
      "source": [
        "# visualizzare i multipli di 5 nella lista precedente e aggiungerli ad un altra lista\n",
        "Multipli = [num for num in listaCasuale if num % 5 == 0]\n",
        "set(Multipli)"
      ],
      "metadata": {
        "colab": {
          "base_uri": "https://localhost:8080/"
        },
        "id": "rMqdntjg5AkN",
        "outputId": "44813a03-b64d-42b8-8556-28311048143b"
      },
      "execution_count": null,
      "outputs": [
        {
          "output_type": "execute_result",
          "data": {
            "text/plain": [
              "{25, 45, 50, 65, 70, 80, 85, 100, 115, 120, 125, 145, 180}"
            ]
          },
          "metadata": {},
          "execution_count": 52
        }
      ]
    },
    {
      "cell_type": "markdown",
      "source": [
        "#PANDAS"
      ],
      "metadata": {
        "id": "lTRddDoCm3Gr"
      }
    },
    {
      "cell_type": "code",
      "source": [
        "import pandas as pd"
      ],
      "metadata": {
        "id": "OjLhuCQFm7cL"
      },
      "execution_count": null,
      "outputs": []
    },
    {
      "cell_type": "code",
      "source": [
        "df = pd.read_csv(\"https://gist.githubusercontent.com/tiangechen/b68782efa49a16edaf07dc2cdaa855ea/raw/0c794a9717f18b094eabab2cd6a6b9a226903577\") \n",
        "df"
      ],
      "metadata": {
        "id": "KUGB88-OnW5c"
      },
      "execution_count": null,
      "outputs": []
    },
    {
      "cell_type": "code",
      "source": [
        "# 1. Contare il numero di righe\n",
        "len(df.index)"
      ],
      "metadata": {
        "id": "IoyXXth4nmJM"
      },
      "execution_count": null,
      "outputs": []
    },
    {
      "cell_type": "code",
      "source": [
        "# 2 visualizzare le righe dalla 20 alla 30\n",
        "df[20:31]"
      ],
      "metadata": {
        "id": "Dwxv0eafoRuQ"
      },
      "execution_count": null,
      "outputs": []
    },
    {
      "cell_type": "code",
      "source": [
        "# 3 visualizzare le righe dalla 20 alla 30 ma del film e del genre\n",
        "df[20:31][[\"Film\",\"Genre\"]]"
      ],
      "metadata": {
        "id": "6TOxD5zVouUT"
      },
      "execution_count": null,
      "outputs": []
    },
    {
      "cell_type": "code",
      "source": [
        "#secondo metedo\n",
        "df.iloc[20:31,0:2]"
      ],
      "metadata": {
        "id": "o7-ifRPlpl0c"
      },
      "execution_count": null,
      "outputs": []
    },
    {
      "cell_type": "code",
      "source": [
        "# 4 visualizzare solo le righe 10,20,30\n",
        "df.iloc[[10,20,30]]"
      ],
      "metadata": {
        "id": "ds_19lCWp7te"
      },
      "execution_count": null,
      "outputs": []
    },
    {
      "cell_type": "code",
      "source": [
        "# visualizzare i film che contengono la parola \"You\" nel titolo\n",
        "df[df[\"Film\"].str.contains(\"You\", na= False)][[\"Film\"]]"
      ],
      "metadata": {
        "id": "YjZfvL5hrIvF"
      },
      "execution_count": null,
      "outputs": []
    },
    {
      "cell_type": "code",
      "source": [
        "#visualizzare il film con il maggior ROTTEN TOMATOES %\n",
        "df[(df[\"Rotten Tomatoes %\"]) == (df[\"Rotten Tomatoes %\"].max())][[\"Film\"]]"
      ],
      "metadata": {
        "id": "ItPVngRssNl0"
      },
      "execution_count": null,
      "outputs": []
    },
    {
      "cell_type": "code",
      "source": [
        "#viusalizzare le commedie prodotte dalla UNIVERSAL \n",
        "df[(df[\"Genre\"] == \"Comedy\") & (df[\"Lead Studio\"] == \"Universal\")]"
      ],
      "metadata": {
        "id": "grkXTlJ0s_ze"
      },
      "execution_count": null,
      "outputs": []
    },
    {
      "cell_type": "code",
      "source": [
        "# contare quanti film sono usciti nel 2010\n",
        "df[df[\"Year\"] == 2010].count()[\"Film\"]"
      ],
      "metadata": {
        "id": "hEmazcqdt3Hc"
      },
      "execution_count": null,
      "outputs": []
    },
    {
      "cell_type": "code",
      "source": [
        "# contare quanti film hanno AUDIENCE SCORE SUPRIRE alla media\n",
        "df[(df[\"Audience score %\"]) > (df[\"Audience score %\"].mean())].count()[\"Genre\"]"
      ],
      "metadata": {
        "id": "ngdIQn8nvJJx"
      },
      "execution_count": null,
      "outputs": []
    },
    {
      "cell_type": "code",
      "source": [
        "#Contare quanti Film ci sono per ogni genere\n",
        "FilmPerOgniGEnre =df.groupby(\"Genre\").count()[[\"Film\"]].sort_values(by=[\"Film\"],ascending = False)"
      ],
      "metadata": {
        "id": "DylQ8l9Svr2d"
      },
      "execution_count": null,
      "outputs": []
    },
    {
      "cell_type": "code",
      "source": [
        "#contare quanti fil sono stati profotti per ogni ann\n",
        "dfFilmAnno = df.groupby(\"Year\").count()[[\"Film\"]].sort_values(by=[\"Film\"],ascending = False).reset_index()\n",
        "dfFilmAnno"
      ],
      "metadata": {
        "id": "ji2aNndmw2l8"
      },
      "execution_count": null,
      "outputs": []
    },
    {
      "cell_type": "code",
      "source": [
        "#visualizzare l'anno con piu film prodotti\n",
        "dfFilmAnno[(dfFilmAnno[\"Film\"]) == (dfFilmAnno[\"Film\"].max())][[\"Year\"]]"
      ],
      "metadata": {
        "id": "bWPJv_Fjxbte"
      },
      "execution_count": null,
      "outputs": []
    },
    {
      "cell_type": "code",
      "source": [
        "# visulizzare il totale dell'audience score per ogni genere\n",
        "df.groupby(\"Genre\").sum()[[\"Audience score %\"]]"
      ],
      "metadata": {
        "id": "-0EUYEnny8Xu"
      },
      "execution_count": null,
      "outputs": []
    },
    {
      "cell_type": "code",
      "source": [
        "#eleminare le righe con l'audience score maggiore di 50\n",
        "df.drop(df[df[\"Audience score %\"] > 50].index,inplace= True)\n",
        "df"
      ],
      "metadata": {
        "id": "Dbg25jdu1oUG"
      },
      "execution_count": null,
      "outputs": []
    },
    {
      "cell_type": "code",
      "source": [
        "Ragazze = [\"Alice\",\"Giorgia\",\"Clara\"]\n",
        "PIUBELLA = input(\"CHI é LA PIU BELLA?\")\n",
        "for inf in range(len(Ragazze)):\n",
        "  if PIUBELLA == \"Alice\":\n",
        "    print(\"é la più bella\")\n",
        "  else:\n",
        "    print(\"NON è la più bella\")\n",
        "\n"
      ],
      "metadata": {
        "colab": {
          "base_uri": "https://localhost:8080/"
        },
        "id": "i2v-T9Ax-6vK",
        "outputId": "94f3c5ac-8520-4cef-f96f-24915a961990"
      },
      "execution_count": null,
      "outputs": [
        {
          "output_type": "stream",
          "name": "stdout",
          "text": [
            "CHI é LA PIU BELLA?Alice\n",
            "é la più bella\n",
            "é la più bella\n",
            "é la più bella\n"
          ]
        }
      ]
    }
  ]
}