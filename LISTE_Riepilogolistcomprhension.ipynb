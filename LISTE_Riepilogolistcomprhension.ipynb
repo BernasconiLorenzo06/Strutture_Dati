{
  "nbformat": 4,
  "nbformat_minor": 0,
  "metadata": {
    "colab": {
      "provenance": [],
      "authorship_tag": "ABX9TyMyGO5g3HaheSVJoTRe/yAm",
      "include_colab_link": true
    },
    "kernelspec": {
      "name": "python3",
      "display_name": "Python 3"
    },
    "language_info": {
      "name": "python"
    }
  },
  "cells": [
    {
      "cell_type": "markdown",
      "metadata": {
        "id": "view-in-github",
        "colab_type": "text"
      },
      "source": [
        "<a href=\"https://colab.research.google.com/github/BernasconiLorenzo06/Strutture_Dati/blob/main/LISTE_Riepilogolistcomprhension.ipynb\" target=\"_parent\"><img src=\"https://colab.research.google.com/assets/colab-badge.svg\" alt=\"Open In Colab\"/></a>"
      ]
    },
    {
      "cell_type": "markdown",
      "source": [
        "creazione di liste in modo randomico"
      ],
      "metadata": {
        "id": "kYSwxrMPjFqX"
      }
    },
    {
      "cell_type": "code",
      "execution_count": null,
      "metadata": {
        "id": "7E3rrnaHiTne"
      },
      "outputs": [],
      "source": [
        "#inserire 10 numeri casuali da 10 a 30 in 2 liste differenti \n",
        "#dove la prima parentesi indica il range mentre la seconda quanti numeri\n",
        "import random\n",
        "listaCasuale = [random.randint(10,30) for x in range(10)]\n",
        "listaCasuale2 = [random.randint(10,30) for x in range(10)]\n",
        "print(listaCasuale)\n",
        "print(listaCasuale2"
      ]
    },
    {
      "cell_type": "markdown",
      "source": [
        "come mettere in ordine preciso una lista"
      ],
      "metadata": {
        "id": "zfEH_qcakMwb"
      }
    },
    {
      "cell_type": "code",
      "source": [
        "squadreCasa = [\"Empoli\", \"Torino\", \"Atalanta\", \"Inter\", \"Lazio\", \"Spezia\", \"Napoli\", \"Verona\", \"Sampdoria\", \"Lecce\"]\n",
        "squadreOspiti = [\"Monza\", \"Juventus\", \"Sassuolo\", \"Salernitana\", \"Udinese\", \"Cremonese\", \"Bologna\", \"Milan\", \"Roma\", \"Fiorentina\"]\n",
        "golfattiCasa = [1, 0, 2, 2, 0, 2, 3, 1, 0, 0]\n",
        "golfattiOspiti = [0, 1, 1, 0, 0, 2, 2, 2, 0, 0]\n",
        "#metterle in ordine preciso\n",
        "\n",
        "for posizionesquadre in range (0,len(squadreCasa)):\n",
        "  print(\"{:11} {:3} {:12} {:1} {:1} {:1} {:1}\".format(squadreCasa[posizionesquadre],\"-\",squadreOspiti[posizionesquadre],\"    \", golfattiCasa[posizionesquadre],\"-\" ,golfattiOspiti[posizionesquadre]))"
      ],
      "metadata": {
        "id": "0IXbpur9jNJs"
      },
      "execution_count": null,
      "outputs": []
    },
    {
      "cell_type": "markdown",
      "source": [
        "calcolare il tempo di esecuzione di un programma"
      ],
      "metadata": {
        "id": "wTahRSNGkR5E"
      }
    },
    {
      "cell_type": "code",
      "source": [
        "import time\n",
        "start = time.time()\n",
        "lista = [1,2,3,4,5,6]\n",
        "print(lista)\n",
        "end= time.time()\n",
        "print(end - start)"
      ],
      "metadata": {
        "colab": {
          "base_uri": "https://localhost:8080/"
        },
        "id": "hPJDGTEVkATz",
        "outputId": "3f0839f5-bfa2-4b04-8d4f-4883123ad54f"
      },
      "execution_count": null,
      "outputs": [
        {
          "output_type": "stream",
          "name": "stdout",
          "text": [
            "[1, 2, 3, 4, 5, 6]\n",
            "0.004025936126708984\n"
          ]
        }
      ]
    },
    {
      "cell_type": "markdown",
      "source": [
        "esercizi randomici da revedere"
      ],
      "metadata": {
        "id": "s7VGKuuak97p"
      }
    },
    {
      "cell_type": "markdown",
      "source": [
        "1.scrivere un programma che aumenti di un grado tuute le temperature comprese tra le 10 e le 18\n",
        "\n",
        "2.scrivere un programma che conti il numero di volte in cui la temperatura è stata maggiore di 15 ma minore di 20\n",
        "\n",
        "3.scrivere un programma che per ogni ora sommi i valori delle ore e delle precipitazioni"
      ],
      "metadata": {
        "id": "YNVlJ_MSlvlw"
      }
    },
    {
      "cell_type": "code",
      "source": [
        "\n"
      ],
      "metadata": {
        "id": "iyRBSYRFkvg3"
      },
      "execution_count": null,
      "outputs": []
    },
    {
      "cell_type": "code",
      "source": [
        "\n"
      ],
      "metadata": {
        "id": "vrau7u3bl2fl"
      },
      "execution_count": null,
      "outputs": []
    }
  ]
}