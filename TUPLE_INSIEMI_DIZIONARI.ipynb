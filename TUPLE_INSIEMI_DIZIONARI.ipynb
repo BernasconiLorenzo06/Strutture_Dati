{
  "nbformat": 4,
  "nbformat_minor": 0,
  "metadata": {
    "colab": {
      "provenance": [],
      "authorship_tag": "ABX9TyNZYBc1cdH5zS3eVzmsgBnq",
      "include_colab_link": true
    },
    "kernelspec": {
      "name": "python3",
      "display_name": "Python 3"
    },
    "language_info": {
      "name": "python"
    }
  },
  "cells": [
    {
      "cell_type": "markdown",
      "metadata": {
        "id": "view-in-github",
        "colab_type": "text"
      },
      "source": [
        "<a href=\"https://colab.research.google.com/github/BernasconiLorenzo06/Strutture_Dati/blob/main/TUPLE_INSIEMI_DIZIONARI.ipynb\" target=\"_parent\"><img src=\"https://colab.research.google.com/assets/colab-badge.svg\" alt=\"Open In Colab\"/></a>"
      ]
    },
    {
      "cell_type": "markdown",
      "source": [
        "# **TUPLE**"
      ],
      "metadata": {
        "id": "qKVNQ1GiUp2a"
      }
    },
    {
      "cell_type": "markdown",
      "source": [
        "una tupla è una struttura dati ordinata e non modificabile. Si forma con la parentesi tonda"
      ],
      "metadata": {
        "id": "rnTLHVVvPZll"
      }
    },
    {
      "cell_type": "code",
      "execution_count": null,
      "metadata": {
        "id": "uMTP0TSzOhpK",
        "colab": {
          "base_uri": "https://localhost:8080/"
        },
        "outputId": "45619d8a-56dc-4c41-c335-0f2d25a772f7"
      },
      "outputs": [
        {
          "output_type": "stream",
          "name": "stdout",
          "text": [
            "(1, 2, 3, 4, 5)\n"
          ]
        }
      ],
      "source": [
        "tupla1 = (1,2,3,4,5)\n",
        "print(tupla1)"
      ]
    },
    {
      "cell_type": "markdown",
      "source": [
        "consentono valori duplicati, sono indicizzate infatti hanno un index (0)\n",
        "\n",
        "non si posso aggiungere elementi dopo"
      ],
      "metadata": {
        "id": "pt2fv5vIQCKr"
      }
    },
    {
      "cell_type": "code",
      "source": [
        "#per creare una tupla con un solo elemento,dopo esso ci va sempre la virgola\n",
        "tupla2 = (\"prova2\",)\n",
        "print(type(tupla2))\n",
        "print(tupla2)\n",
        "tupla2 =(\"prova\")\n",
        "print(type(tupla2))"
      ],
      "metadata": {
        "colab": {
          "base_uri": "https://localhost:8080/"
        },
        "id": "k0Gza6ZNPzZR",
        "outputId": "6acd31d0-8526-4497-933d-8e3439ed8872"
      },
      "execution_count": null,
      "outputs": [
        {
          "output_type": "stream",
          "name": "stdout",
          "text": [
            "<class 'tuple'>\n",
            "('prova2',)\n",
            "<class 'str'>\n"
          ]
        }
      ]
    },
    {
      "cell_type": "code",
      "source": [
        "#la tupla può contenere qualsiasi tipo di dato\n",
        "tupla3 = (\"ciao\",0,40,\"Milan\",True,34.6)\n",
        "print(tupla3)"
      ],
      "metadata": {
        "colab": {
          "base_uri": "https://localhost:8080/"
        },
        "id": "2ksYfk8EQr-Z",
        "outputId": "1d0c7464-68a4-47ea-a0e6-995b0eb0e21c"
      },
      "execution_count": null,
      "outputs": [
        {
          "output_type": "stream",
          "name": "stdout",
          "text": [
            "('ciao', 0, 40, 'Milan', True, 34.6)\n"
          ]
        }
      ]
    },
    {
      "cell_type": "code",
      "source": [
        "#si puo creare una tupla con la funzione tupla()\n",
        "tupla4 = tuple([10,\"ciao\"])\n",
        "print(tupla4)\n",
        "\n",
        "#trasformare una lista in una tupla\n",
        "pluto =[1,4,5]\n",
        "prova = tuple(pluto)\n",
        "print(prova)"
      ],
      "metadata": {
        "colab": {
          "base_uri": "https://localhost:8080/"
        },
        "id": "FY75FcROR72x",
        "outputId": "d3831f78-89ef-4d00-df20-c33fd72e7149"
      },
      "execution_count": null,
      "outputs": [
        {
          "output_type": "stream",
          "name": "stdout",
          "text": [
            "(10, 'ciao')\n",
            "(1, 4, 5)\n"
          ]
        }
      ]
    },
    {
      "cell_type": "markdown",
      "source": [
        "# *esercizi*"
      ],
      "metadata": {
        "id": "SFXJyrdaTNTg"
      }
    },
    {
      "cell_type": "markdown",
      "source": [
        "Generare 20 numeri interi casuali non uguali che varino da 1 a 100, poi insetrisci in una struttura dati adeguata che non sia modificabile"
      ],
      "metadata": {
        "id": "dBfcwAFbTiy5"
      }
    },
    {
      "cell_type": "code",
      "source": [
        "import random\n",
        "#per non avere doppioni\n",
        "listaCasuale = tuple(random.sample(range(1,100),20))\n",
        "print(type(listaCasuale))\n",
        "print(listaCasuale)"
      ],
      "metadata": {
        "colab": {
          "base_uri": "https://localhost:8080/"
        },
        "id": "BC5ndxaoTZNz",
        "outputId": "c9432878-4ed4-447d-f6d4-c53f45be9df8"
      },
      "execution_count": null,
      "outputs": [
        {
          "output_type": "stream",
          "name": "stdout",
          "text": [
            "<class 'tuple'>\n",
            "(20, 35, 33, 42, 7, 67, 59, 66, 21, 98, 93, 71, 70, 46, 74, 32, 39, 61, 36, 41)\n"
          ]
        }
      ]
    },
    {
      "cell_type": "markdown",
      "source": [
        "Aggiungere i primi 3 cognomi della classe in posizione 1 al precedente vettore"
      ],
      "metadata": {
        "id": "wl7Vq4JuVo3x"
      }
    },
    {
      "cell_type": "code",
      "source": [
        " #non si puo fare"
      ],
      "metadata": {
        "id": "cEEz8auEU2Jh"
      },
      "execution_count": null,
      "outputs": []
    },
    {
      "cell_type": "code",
      "source": [
        "#la ritrasformo in lista con la funzione list()\n",
        "listaCasuale = list(listaCasuale)\n",
        "listaCasuale[0:0] = [\"avasiloae\",\"bernasconi\",\"cottone\"]\n",
        "print(listaCasuale)"
      ],
      "metadata": {
        "colab": {
          "base_uri": "https://localhost:8080/"
        },
        "id": "oeQ5kYr2WLX8",
        "outputId": "038c7fdc-7a24-49d9-cf82-dcb7c00a017b"
      },
      "execution_count": null,
      "outputs": [
        {
          "output_type": "stream",
          "name": "stdout",
          "text": [
            "['avasiloae', 'bernasconi', 'cottone', 20, 35, 33, 42, 7, 67, 59, 66, 21, 98, 93, 71, 70, 46, 74, 32, 39, 61, 36, 41]\n"
          ]
        }
      ]
    },
    {
      "cell_type": "markdown",
      "source": [
        "#**INSIEMI**"
      ],
      "metadata": {
        "id": "0Z-Ey00uXZQA"
      }
    },
    {
      "cell_type": "markdown",
      "source": [
        "gli insieme è un tipo di struttura dati dove gli elementi vengono inseriti usando una singola variabile\n",
        "\n",
        "nono sono ordinati e non hanno un indice e non si posso inserire i duplicati"
      ],
      "metadata": {
        "id": "dAQTr1oNXhah"
      }
    },
    {
      "cell_type": "code",
      "source": [
        "insieme = {\"inter\",\"milan\",\"sassuolo\"}\n",
        "print(insieme)"
      ],
      "metadata": {
        "colab": {
          "base_uri": "https://localhost:8080/"
        },
        "id": "YADgCWOrXcMo",
        "outputId": "5d5ca3fa-9917-413f-8a97-8c14d80618e7"
      },
      "execution_count": null,
      "outputs": [
        {
          "output_type": "stream",
          "name": "stdout",
          "text": [
            "{'sassuolo', 'milan', 'inter'}\n"
          ]
        }
      ]
    },
    {
      "cell_type": "code",
      "source": [
        "#altro metodo per creare un insieme(ossrvando che gli elementi doppi non li scrive)\n",
        "insieme2 = set((1,2,3,4,5,5))\n",
        "print(insieme2)\n",
        "print(type(insieme2))"
      ],
      "metadata": {
        "colab": {
          "base_uri": "https://localhost:8080/"
        },
        "id": "_EAUJevoYczg",
        "outputId": "9920f270-24ee-4cd5-be5a-fcbcd22cd8d1"
      },
      "execution_count": null,
      "outputs": [
        {
          "output_type": "stream",
          "name": "stdout",
          "text": [
            "{1, 2, 3, 4, 5}\n",
            "<class 'set'>\n"
          ]
        }
      ]
    },
    {
      "cell_type": "code",
      "source": [
        "#trovare la unghezza di un insieme\n",
        "len(insieme2)"
      ],
      "metadata": {
        "colab": {
          "base_uri": "https://localhost:8080/"
        },
        "id": "jMtl_McYZThZ",
        "outputId": "5dc5557b-1682-46d8-944d-96491bca2038"
      },
      "execution_count": null,
      "outputs": [
        {
          "output_type": "execute_result",
          "data": {
            "text/plain": [
              "5"
            ]
          },
          "metadata": {},
          "execution_count": 54
        }
      ]
    },
    {
      "cell_type": "code",
      "source": [
        "#creare un insieme con numeri interi\n",
        "insiemenumerico = {1,2,3,4,5}\n",
        "prova = {i for i in range(10)}\n",
        "print(insiemenumerico)\n",
        "print(prova)"
      ],
      "metadata": {
        "colab": {
          "base_uri": "https://localhost:8080/"
        },
        "id": "_mxgeMjMZt0o",
        "outputId": "21df4ef5-289f-46f7-ee81-637396507c83"
      },
      "execution_count": null,
      "outputs": [
        {
          "output_type": "stream",
          "name": "stdout",
          "text": [
            "{1, 2, 3, 4, 5}\n",
            "{0, 1, 2, 3, 4, 5, 6, 7, 8, 9}\n"
          ]
        }
      ]
    },
    {
      "cell_type": "code",
      "source": [
        "#aggiungere gli elementi\n",
        "insieme5 = {\"ciao\",9,39.0}\n",
        "print(insieme5)\n",
        "insieme5.add(\"francesco\")\n",
        "print(insieme5)"
      ],
      "metadata": {
        "colab": {
          "base_uri": "https://localhost:8080/"
        },
        "id": "9V5pZR0BaP8p",
        "outputId": "b20509e6-07f1-4a35-f85a-18880a3dd56f"
      },
      "execution_count": null,
      "outputs": [
        {
          "output_type": "stream",
          "name": "stdout",
          "text": [
            "{'ciao', 9, 39.0}\n",
            "{'ciao', 'francesco', 9, 39.0}\n"
          ]
        }
      ]
    },
    {
      "cell_type": "code",
      "source": [
        "#al primo insieme vengo aggiunti al sencondo insieme\n",
        "insiem6 = {\"paolo\",78,9}\n",
        "insieme7 = {\"poli\",\"ciaooo\"}\n",
        "insiem6.update(insieme7)\n",
        "print(insiem6)"
      ],
      "metadata": {
        "colab": {
          "base_uri": "https://localhost:8080/"
        },
        "id": "jmfFKLF_d7mx",
        "outputId": "ab5832b3-5c0a-4975-d582-1601128fc36b"
      },
      "execution_count": null,
      "outputs": [
        {
          "output_type": "stream",
          "name": "stdout",
          "text": [
            "{'paolo', 'poli', 'ciaooo', 9, 78}\n"
          ]
        }
      ]
    },
    {
      "cell_type": "code",
      "source": [
        "#rimuiovere un elemento usando remove()\n",
        "insieme8 = {\"pippo\", \"pluto\", \"paperino\", \"topolino\", \"ronaldo\", 45}\n",
        "insieme8.remove(\"pippo\")\n",
        "print(insieme8)\n"
      ],
      "metadata": {
        "colab": {
          "base_uri": "https://localhost:8080/"
        },
        "id": "bQcOkrsheecR",
        "outputId": "c0ceefb9-2504-4b5c-e5c7-99535522a469"
      },
      "execution_count": null,
      "outputs": [
        {
          "output_type": "stream",
          "name": "stdout",
          "text": [
            "{'paperino', 'pluto', 45, 'ronaldo', 'topolino'}\n"
          ]
        }
      ]
    },
    {
      "cell_type": "code",
      "source": [
        "#rimuovere un elemento usando discard()\n",
        "insieme8.discard(\"pippo\")\n",
        "print(insieme8)"
      ],
      "metadata": {
        "colab": {
          "base_uri": "https://localhost:8080/"
        },
        "id": "X8S8M5q0yqCx",
        "outputId": "2fb22f68-c155-4b10-a56d-9012e5aacb88"
      },
      "execution_count": null,
      "outputs": [
        {
          "output_type": "stream",
          "name": "stdout",
          "text": [
            "{'paperino', 'pluto', 45, 'ronaldo', 'topolino'}\n"
          ]
        }
      ]
    },
    {
      "cell_type": "code",
      "source": [
        "#rimuovere un elemento usando pop()\n",
        "#questo metodo elimina un elemento a caso dell'insieme dato che non si può inserire un indice all'interno del metodo\n",
        "\n",
        "x = insieme8.pop()\n",
        "print(x)\n",
        "print(insieme8)"
      ],
      "metadata": {
        "id": "ddt2TWeOyzpa"
      },
      "execution_count": null,
      "outputs": []
    },
    {
      "cell_type": "code",
      "source": [
        "#svuotare completamente un insieme\n",
        "insieme8.clear()\n",
        "print(insieme8)"
      ],
      "metadata": {
        "id": "ACYRvVm8zHc-"
      },
      "execution_count": null,
      "outputs": []
    },
    {
      "cell_type": "code",
      "source": [
        "#carcare in una lista 20 numeri casuali da 1 a 100 ed eliminare i duplicati \n"
      ],
      "metadata": {
        "id": "rfgApponeseZ"
      },
      "execution_count": null,
      "outputs": []
    },
    {
      "cell_type": "code",
      "source": [
        "import random\n",
        "casuale = list(set([random.randint(1,100) for x in range(20)]))\n",
        "print(casuale)"
      ],
      "metadata": {
        "colab": {
          "base_uri": "https://localhost:8080/"
        },
        "id": "sDYLMMQYj9uB",
        "outputId": "eb945f27-207d-4895-d01c-271b45df8a17"
      },
      "execution_count": null,
      "outputs": [
        {
          "output_type": "stream",
          "name": "stdout",
          "text": [
            "[1, 4, 7, 14, 21, 23, 26, 32, 34, 35, 38, 46, 52, 64, 66, 72, 74, 78, 90, 94]\n"
          ]
        }
      ]
    },
    {
      "cell_type": "code",
      "source": [
        "#creare un insieme misto\n",
        "insiememisto = {2, \"luca\", \"marco\", 45, True}\n",
        "print(insiememisto)"
      ],
      "metadata": {
        "id": "W_Ut_Xd6x156"
      },
      "execution_count": null,
      "outputs": []
    },
    {
      "cell_type": "code",
      "source": [
        "insieme3 = {1, 2, 56, 1} #dentro questo insieme viene inserito solo un 1, dato che negli insiemi non possono essere inseriti duplicati\n",
        "print(insieme3)"
      ],
      "metadata": {
        "colab": {
          "base_uri": "https://localhost:8080/"
        },
        "id": "AnpOmijeyDNh",
        "outputId": "e646c835-5bf4-49c4-bdf4-6aad4925ca42"
      },
      "execution_count": null,
      "outputs": [
        {
          "output_type": "stream",
          "name": "stdout",
          "text": [
            "{56, 1, 2}\n"
          ]
        }
      ]
    },
    {
      "cell_type": "markdown",
      "source": [
        "#Unire Gli INsiemi"
      ],
      "metadata": {
        "id": "Ia9aZ29xyU6C"
      }
    },
    {
      "cell_type": "code",
      "source": [
        "#metodo union\n",
        "set1 = {1, 2, 3, 4, 5, 6,14}\n",
        "set2 = {10, 20, 30, 40}\n",
        "set4={12,13,14,15}\n",
        "set3 = set1.union(set2,set4)\n",
        "print(set3)"
      ],
      "metadata": {
        "id": "6_aNpY2DyMJZ"
      },
      "execution_count": null,
      "outputs": []
    },
    {
      "cell_type": "code",
      "source": [
        "#metodo update\n",
        "set4 = {\"vittoria\", \"carlotta\", \"alice\"}\n",
        "set5 = {100, 200, 300}\n",
        "set4.update(set5)  #il metodo update aggiunge gli elementi di un insieme in un altro insieme\n",
        "print(set4)"
      ],
      "metadata": {
        "id": "75fCgaiayMpZ"
      },
      "execution_count": null,
      "outputs": []
    },
    {
      "cell_type": "markdown",
      "source": [
        "salvare solo gli elemnti duplicati in due insiemi"
      ],
      "metadata": {
        "id": "Q4FkJ_zo0PQh"
      }
    },
    {
      "cell_type": "code",
      "source": [
        "#intersection_update: salva in un insieme gli elementi duplicati che ci sono in entrambi gli insiemi (rimuove gli elementi che non presenti in altri insiemi)\n",
        "set6 = {\"ciao\", \"buongiorno\", \"buonasera\", \"arrivederci\"}\n",
        "set7 = {\"arrivederci\", \"buonasera\", 6, 80}\n",
        "set6.intersection_update(set7)\n",
        "print(set6)"
      ],
      "metadata": {
        "id": "YR7o49cQyhI7",
        "outputId": "5857e16a-5430-49b9-b81e-f0dfb2ea2774",
        "colab": {
          "base_uri": "https://localhost:8080/"
        }
      },
      "execution_count": null,
      "outputs": [
        {
          "output_type": "stream",
          "name": "stdout",
          "text": [
            "{'buonasera', 'arrivederci'}\n"
          ]
        }
      ]
    },
    {
      "cell_type": "code",
      "source": [
        "#intersection: crea e salva in un altro insieme gli elementi uguali in entrambi gli insiemi\n",
        "set8 = set6.intersection(set7)\n",
        "print(set8)"
      ],
      "metadata": {
        "id": "TtdcfJY80Apk",
        "outputId": "52577aef-2545-4047-aa62-662f9c8f0ba8",
        "colab": {
          "base_uri": "https://localhost:8080/"
        }
      },
      "execution_count": null,
      "outputs": [
        {
          "output_type": "stream",
          "name": "stdout",
          "text": [
            "{'buonasera', 'arrivederci'}\n"
          ]
        }
      ]
    },
    {
      "cell_type": "markdown",
      "source": [
        "salvare i valori non duplicati in due insiemi"
      ],
      "metadata": {
        "id": "M6YDOZFz0XVh"
      }
    },
    {
      "cell_type": "code",
      "source": [
        "#symmetric_difference_update: salva in un insieme gli elementi non duplicati che ci sono in entrambi gli insiemi (inserisce gli elementi diversi da questo insieme e un altro ed elimina quelli comuni)\n",
        "set9 = {\"inter\", \"milan\", \"roma\", \"napoli\"}\n",
        "set10 = {\"inter\", \"roma\", 87, 123}\n",
        "set9.symmetric_difference_update(set10)\n",
        "print(set9)"
      ],
      "metadata": {
        "id": "E8KVSjHX0CUh"
      },
      "execution_count": null,
      "outputs": []
    },
    {
      "cell_type": "code",
      "source": [
        "#symmetric_difference: crea e salva in un altro insieme gli elementi non duplicati che sono presenti in due insiemi\n",
        "set9 = {\"inter\", \"milan\", \"roma\", \"napoli\"}\n",
        "set10 = {\"inter\", \"roma\", 87, 123}\n",
        "set11 = set9.symmetric_difference(set10)\n",
        "print(set11)"
      ],
      "metadata": {
        "colab": {
          "base_uri": "https://localhost:8080/"
        },
        "id": "Tpx7rNJv0F3b",
        "outputId": "41da0a30-8e5c-49cc-c04f-2020b6f96b59"
      },
      "execution_count": null,
      "outputs": [
        {
          "output_type": "stream",
          "name": "stdout",
          "text": [
            "{'milan', 87, 123, 'napoli'}\n"
          ]
        }
      ]
    },
    {
      "cell_type": "code",
      "source": [
        "#difference prende quello che cè nel primo insieme meno gli elemnti in comune del secondo insieme\n",
        "milella = {\"banana\",\"kiwi\",\"arancia\"}\n",
        "avasiloae = {\"pere\",\"uva\",\"kiwi\"}\n",
        "fruttiMilella = milella.difference(avasiloae)\n",
        "print(fruttiMilella)\n"
      ],
      "metadata": {
        "colab": {
          "base_uri": "https://localhost:8080/"
        },
        "id": "Ykf3MyAd3gEQ",
        "outputId": "0bae18d6-b87c-45cb-a036-8a9c6f2b1353"
      },
      "execution_count": null,
      "outputs": [
        {
          "output_type": "stream",
          "name": "stdout",
          "text": [
            "{'banana', 'arancia'}\n"
          ]
        }
      ]
    },
    {
      "cell_type": "markdown",
      "source": [
        "**ESERCIZI**"
      ],
      "metadata": {
        "id": "1JV-3ptR1Piq"
      }
    },
    {
      "cell_type": "code",
      "source": [
        "#trovare i frutti che piacciono in comune\n",
        "milella = {\"banana\",\"kiwi\",\"arancia\"}\n",
        "avasiloae = {\"pere\",\"uva\",\"kiwi\"}\n",
        "frutticomuni = milella.intersection(avasiloae)\n",
        "print(frutticomuni)"
      ],
      "metadata": {
        "colab": {
          "base_uri": "https://localhost:8080/"
        },
        "id": "EEsm_JLx1PQb",
        "outputId": "cd1c0e7c-3135-4e3d-b075-21db092f4c97"
      },
      "execution_count": null,
      "outputs": [
        {
          "output_type": "stream",
          "name": "stdout",
          "text": [
            "{'kiwi'}\n"
          ]
        }
      ]
    },
    {
      "cell_type": "code",
      "source": [
        "#far vedere i futti che piacciono a tutti e due\n",
        "tuttifrutti = milella.union(avasiloae)\n",
        "print(tuttifrutti)"
      ],
      "metadata": {
        "colab": {
          "base_uri": "https://localhost:8080/"
        },
        "id": "MXE19IBH10jh",
        "outputId": "752036c0-a4d0-46e8-b958-a9858ce02401"
      },
      "execution_count": null,
      "outputs": [
        {
          "output_type": "stream",
          "name": "stdout",
          "text": [
            "{'kiwi', 'banana', 'pere', 'uva', 'arancia'}\n"
          ]
        }
      ]
    },
    {
      "cell_type": "code",
      "source": [
        "#trovare tutti i frutti che piacciono a milella ma non piacciono a avasiloae\n",
        "fruttiMilella = milella.difference(avasiloae)\n",
        "print(fruttiMilella)"
      ],
      "metadata": {
        "colab": {
          "base_uri": "https://localhost:8080/"
        },
        "id": "CUrqNGfG2dJh",
        "outputId": "89769bf0-861c-4be7-c6df-ebb3303d3bd0"
      },
      "execution_count": null,
      "outputs": [
        {
          "output_type": "stream",
          "name": "stdout",
          "text": [
            "{'pere', 'banana', 'arancia', 'uva'}\n"
          ]
        }
      ]
    },
    {
      "cell_type": "code",
      "source": [
        "#aggiungere un frutto a milella\n",
        "milella.add(\"ananas\")\n",
        "print(milella)"
      ],
      "metadata": {
        "colab": {
          "base_uri": "https://localhost:8080/"
        },
        "id": "hIws_iBF3YRT",
        "outputId": "00d708be-3851-4b9e-8ae9-b9dcf0869f7b"
      },
      "execution_count": null,
      "outputs": [
        {
          "output_type": "stream",
          "name": "stdout",
          "text": [
            "{'arancia', 'kiwi', 'banana', 'ananas'}\n"
          ]
        }
      ]
    },
    {
      "cell_type": "code",
      "source": [
        "#rimuovere il kiwi da milella\n",
        "milella.remove(\"kiwi\")\n",
        "print(milella)"
      ],
      "metadata": {
        "colab": {
          "base_uri": "https://localhost:8080/"
        },
        "id": "EHCipoQr48_g",
        "outputId": "66bfb2b6-971c-442e-f7d6-687718711959"
      },
      "execution_count": null,
      "outputs": [
        {
          "output_type": "stream",
          "name": "stdout",
          "text": [
            "{'arancia', 'banana', 'ananas'}\n"
          ]
        }
      ]
    },
    {
      "cell_type": "code",
      "source": [
        "listaFrutta = [\"uva\",\"mela\",\"kiwi\",\"mela\"]\n",
        "print(listaFrutta)\n",
        "#creare una lista non avendo doppioni quindi trasformarlo in un insieme\n",
        "Frutta=set(listaFrutta)\n"
      ],
      "metadata": {
        "colab": {
          "base_uri": "https://localhost:8080/"
        },
        "id": "FLgWr3g-5UKA",
        "outputId": "b4d27444-9f70-42c6-81f9-267b3fdf22aa"
      },
      "execution_count": null,
      "outputs": [
        {
          "output_type": "stream",
          "name": "stdout",
          "text": [
            "['uva', 'mela', 'kiwi', 'mela']\n"
          ]
        }
      ]
    },
    {
      "cell_type": "code",
      "source": [],
      "metadata": {
        "id": "Ozh-TsKg6msQ"
      },
      "execution_count": null,
      "outputs": []
    },
    {
      "cell_type": "code",
      "source": [
        "#trasformarlo in una lista\n",
        "fruttalista=list(Frutta)\n",
        "print(fruttalista)"
      ],
      "metadata": {
        "id": "6BB4hYeh6MaB"
      },
      "execution_count": null,
      "outputs": []
    },
    {
      "cell_type": "code",
      "source": [
        "#trasfotrmarlo in una tupla\n",
        "tuplafrutte=tuple(fruttalista)\n",
        "print(tuplafrutte)"
      ],
      "metadata": {
        "colab": {
          "base_uri": "https://localhost:8080/"
        },
        "id": "hR6b5nZG6Sco",
        "outputId": "eb9898cb-8d52-43e7-aa10-1ff5a2374a52"
      },
      "execution_count": null,
      "outputs": [
        {
          "output_type": "stream",
          "name": "stdout",
          "text": [
            "('kiwi', 'mela', 'uva')\n"
          ]
        }
      ]
    },
    {
      "cell_type": "code",
      "source": [
        "fruttatupleIntera= tuple(list(set(listaFrutta)))\n",
        "print(fruttatupleIntera)"
      ],
      "metadata": {
        "colab": {
          "base_uri": "https://localhost:8080/"
        },
        "id": "LqfbjtWW6dx4",
        "outputId": "08264ce7-5573-4db7-dff4-eccad5065a14"
      },
      "execution_count": null,
      "outputs": [
        {
          "output_type": "stream",
          "name": "stdout",
          "text": [
            "('kiwi', 'mela', 'uva')\n"
          ]
        }
      ]
    },
    {
      "cell_type": "code",
      "source": [
        "listaSquadreClasse = [\"milan\",\"inter\",\"juve\",\"napoli\",\"milan\",\"inter\"]"
      ],
      "metadata": {
        "id": "5zyBa1or7U5w"
      },
      "execution_count": null,
      "outputs": []
    },
    {
      "cell_type": "code",
      "source": [
        "#squadre senza ripetizioni\n",
        "squadresenzaripetizioni = list(set(listaSquadreClasse))\n",
        "print(squadresenzaripetizioni)"
      ],
      "metadata": {
        "colab": {
          "base_uri": "https://localhost:8080/"
        },
        "id": "SMmAWcBd7guA",
        "outputId": "eb9082bb-8b34-42f0-bd19-9ed69399813f"
      },
      "execution_count": null,
      "outputs": [
        {
          "output_type": "stream",
          "name": "stdout",
          "text": [
            "['milan', 'inter', 'juve', 'napoli']\n"
          ]
        }
      ]
    },
    {
      "cell_type": "code",
      "source": [
        "studentimilan = {\"darienzo\",\"bernasconi\",\"geremicca\"}\n",
        "studentiinter = {\"milella\",\"lotorto\",\"geremicca\"}\n"
      ],
      "metadata": {
        "id": "bTRZs6907-fg"
      },
      "execution_count": null,
      "outputs": []
    },
    {
      "cell_type": "code",
      "source": [
        "studenti = studentimilan.union(studentiinter)\n",
        "print(studenti)\n",
        "len(studenti)"
      ],
      "metadata": {
        "colab": {
          "base_uri": "https://localhost:8080/"
        },
        "id": "8ltRehy-8r_g",
        "outputId": "34df09f4-7e55-46a9-8fa6-97ba0b5d47f1"
      },
      "execution_count": null,
      "outputs": [
        {
          "output_type": "stream",
          "name": "stdout",
          "text": [
            "{'lotorto', 'darienzo', 'bernasconi', 'geremicca', 'milella'}\n"
          ]
        },
        {
          "output_type": "execute_result",
          "data": {
            "text/plain": [
              "5"
            ]
          },
          "metadata": {},
          "execution_count": 36
        }
      ]
    },
    {
      "cell_type": "code",
      "source": [
        "#studenti che tengo tutte e due le squadre\n",
        "stduentitifosididuesquadre = studenti.intersection(studentiinter) \n",
        "print(stduentitifosididuesquadre)"
      ],
      "metadata": {
        "colab": {
          "base_uri": "https://localhost:8080/"
        },
        "id": "cMbPXyvy82Sh",
        "outputId": "2460fd87-5579-4678-880e-af3b8b51a251"
      },
      "execution_count": null,
      "outputs": [
        {
          "output_type": "stream",
          "name": "stdout",
          "text": [
            "{'lotorto', 'geremicca', 'milella'}\n"
          ]
        }
      ]
    },
    {
      "cell_type": "code",
      "source": [
        "#studenti che non tifano il milan\n",
        "studentichetifanosolointer = studentiinter.difference(studentimilan)\n",
        "print(studentichetifanosolointer)"
      ],
      "metadata": {
        "colab": {
          "base_uri": "https://localhost:8080/"
        },
        "id": "a9y0VbAV9cOH",
        "outputId": "bfdab390-d659-46b1-eed5-17cfeb8a75bf"
      },
      "execution_count": null,
      "outputs": [
        {
          "output_type": "stream",
          "name": "stdout",
          "text": [
            "{'lotorto', 'milella'}\n"
          ]
        }
      ]
    },
    {
      "cell_type": "markdown",
      "source": [
        "# **DIZIONARI**"
      ],
      "metadata": {
        "id": "4Jrg-GELme2x"
      }
    },
    {
      "cell_type": "code",
      "source": [
        "#ogni elemento puo essere legato a piu elementi\n",
        "\n",
        "dizionario = {\n",
        "    \"genere\":\"maschio\",\n",
        "    \"età\":15,\n",
        "    \"altezza\":200,\n",
        "\n",
        "}\n",
        "print(dizionario)"
      ],
      "metadata": {
        "colab": {
          "base_uri": "https://localhost:8080/"
        },
        "id": "4YGK9YoPmjAx",
        "outputId": "558d29f3-123a-41a4-e83f-638d57070145"
      },
      "execution_count": null,
      "outputs": [
        {
          "output_type": "stream",
          "name": "stdout",
          "text": [
            "{'genere': 'maschio', 'età': 15, 'altezza': 200}\n"
          ]
        }
      ]
    },
    {
      "cell_type": "code",
      "source": [
        "itaToIng = {\n",
        "    \"scarpa\":\"shoes\",\n",
        "    \"ciao\":\"hello\",\n",
        "    \"sciarpa\":\"scarf\",\n",
        "\n",
        "}\n",
        "print(itaToIng)"
      ],
      "metadata": {
        "colab": {
          "base_uri": "https://localhost:8080/"
        },
        "id": "dsEqdWTvnUUp",
        "outputId": "ec092421-cb6d-4bd9-c873-2d558618fad5"
      },
      "execution_count": null,
      "outputs": [
        {
          "output_type": "stream",
          "name": "stdout",
          "text": [
            "{'scarpa': 'shoes', 'ciao': 'hello', 'sciarpa': 'scarf'}\n"
          ]
        }
      ]
    }
  ]
}