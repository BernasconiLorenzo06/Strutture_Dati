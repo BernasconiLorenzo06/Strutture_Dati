{
  "nbformat": 4,
  "nbformat_minor": 0,
  "metadata": {
    "colab": {
      "provenance": [],
      "authorship_tag": "ABX9TyNoDy4Ui7dfDTMbaMCVOjAo",
      "include_colab_link": true
    },
    "kernelspec": {
      "name": "python3",
      "display_name": "Python 3"
    },
    "language_info": {
      "name": "python"
    }
  },
  "cells": [
    {
      "cell_type": "markdown",
      "metadata": {
        "id": "view-in-github",
        "colab_type": "text"
      },
      "source": [
        "<a href=\"https://colab.research.google.com/github/BernasconiLorenzo06/Strutture_Dati/blob/main/LISTE_riepilogo_sulle_liste.ipynb\" target=\"_parent\"><img src=\"https://colab.research.google.com/assets/colab-badge.svg\" alt=\"Open In Colab\"/></a>"
      ]
    },
    {
      "cell_type": "code",
      "execution_count": null,
      "metadata": {
        "id": "iltWt2yADCUf"
      },
      "outputs": [],
      "source": []
    },
    {
      "cell_type": "markdown",
      "source": [],
      "metadata": {
        "id": "kqKD4VLSDFKq"
      }
    },
    {
      "cell_type": "markdown",
      "source": [
        "Questo notebook contiene informazioni fondamenetiali per lavorare sulle liste"
      ],
      "metadata": {
        "id": "MuKnL6ABDEp7"
      }
    },
    {
      "cell_type": "markdown",
      "source": [
        "**DEFINIZIONE DI LISTA:**\n",
        "La lista è una struttura di dati dinamica utilizzata per memorizzare dati in modo non permanente, memorizzazione nella RAM.\n",
        "\n",
        "**DINAMICA :**\n",
        "La dimensione della lista non deve essere fissata a priori.\n",
        "\n",
        "**NON PERMANENTE:**\n",
        "Significa che i dati memorizzati nella lista vengono cancellati quando si chiude il nootbook.\n",
        "\n"
      ],
      "metadata": {
        "id": "6Ye2OVnJDYa5"
      }
    },
    {
      "cell_type": "markdown",
      "source": [
        "1.Inizializzazione di una lista"
      ],
      "metadata": {
        "id": "Tk1Lrp6EE4iL"
      }
    },
    {
      "cell_type": "code",
      "source": [
        "lista=[1,2,3,4,5,6,7,8,9]"
      ],
      "metadata": {
        "id": "AkDvIzrsF-AZ"
      },
      "execution_count": null,
      "outputs": []
    },
    {
      "cell_type": "markdown",
      "source": [
        "2.inserimento di elementi"
      ],
      "metadata": {
        "id": "a1epxEDEE7yp"
      }
    },
    {
      "cell_type": "code",
      "source": [
        "#aggiunge un elemento alla fine della lista\n",
        "lista.append(10)\n",
        "#aggiungere un tot di elementi alla fine della lista precedente\n",
        "lista.extend([11,12,13])\n",
        "#aggiungere un elemento(20) in una posizione(5)\n",
        "lista.insert(5,20)\n"
      ],
      "metadata": {
        "id": "zXGVmR7jGIx5"
      },
      "execution_count": null,
      "outputs": []
    },
    {
      "cell_type": "markdown",
      "source": [
        "3.visualizzazione di una lista"
      ],
      "metadata": {
        "id": "dS1JQSIwFAw5"
      }
    },
    {
      "cell_type": "code",
      "source": [
        "\n",
        "print(lista)"
      ],
      "metadata": {
        "colab": {
          "base_uri": "https://localhost:8080/"
        },
        "id": "q-vwF4BiHU34",
        "outputId": "23564888-13f4-481d-8bd6-1a282f1f5575"
      },
      "execution_count": null,
      "outputs": [
        {
          "output_type": "stream",
          "name": "stdout",
          "text": [
            "[1, 2, 3, 4, 5, 6, 7, 8, 9]\n"
          ]
        }
      ]
    },
    {
      "cell_type": "markdown",
      "source": [
        "4.rimozione di elementi di una lista"
      ],
      "metadata": {
        "id": "2hrIVK9gFGZB"
      }
    },
    {
      "cell_type": "code",
      "source": [
        "#rimuove la prima occorrenza(istanza del numero 10)\n",
        "lista.remove(10)\n",
        "#rimuove l'elemento di posizione 10 se nelle parentesi non c'è nessun nuemro elimina l'ultimo elemento\n",
        "lista.pop(10)\n",
        "#rimuove l'elemento di posizione 10\n",
        "del lista[10]"
      ],
      "metadata": {
        "id": "ON4Fk1F1Hem5"
      },
      "execution_count": null,
      "outputs": []
    },
    {
      "cell_type": "markdown",
      "source": [
        "5.aggiunta di un elemento di una lista."
      ],
      "metadata": {
        "id": "rT6Tps8oFJhY"
      }
    },
    {
      "cell_type": "code",
      "source": [
        "#aggiunge un elemento alla fine della lista\n",
        "lista.append(10)\n",
        "#aggiungere un tot di elementi alla fine della lista precedente\n",
        "lista.extend([11,12,13])\n",
        "#aggiungere un elemento(20) in una posizione(5)\n",
        "lista.insert(5,20)"
      ],
      "metadata": {
        "id": "O8fz_3qSItSQ"
      },
      "execution_count": null,
      "outputs": []
    },
    {
      "cell_type": "markdown",
      "source": [
        "6.visualizzazione di uno o più elementi di una lista.\n"
      ],
      "metadata": {
        "id": "VWP0n9jCFQ4Z"
      }
    },
    {
      "cell_type": "code",
      "source": [
        "#visualizza il quindto elemnto della lista quindi l'elemnto alla posizione 4 visto che la lista parte da 0\n",
        "print(lista[4])\n",
        "#slicing: visualizza gli elementi dalla posizione 4 fino alla posizione 7\n",
        "print(lista[4:8])\n",
        "#slicing: visualizza gli elementi dalla posizione 4 fino alla posizione 7 a due a due\n",
        "print(lista[4:8:2])\n",
        "#visualizza gli elementi dopo la 4 posizione\n",
        "print(lista[4:])\n",
        "#visualizza gli elementi prima della 4 posizione\n",
        "print(lista[:4])\n",
        "#prende tutti i numeri a quattro\n",
        "print(lista[::4])\n",
        "#visualizza l'ultimo elemento\n",
        "print(lista[-1])\n",
        "#restituisce l'indice dove si trova la prima occorenza dell'elemento 10(il primo 10 che trova)\n",
        "lista.index(10)"
      ],
      "metadata": {
        "id": "rONa67O9I_KB"
      },
      "execution_count": null,
      "outputs": []
    },
    {
      "cell_type": "markdown",
      "source": [
        "7.trovare il minomo e massimo di una lista"
      ],
      "metadata": {
        "id": "_pP_bYLaFXcR"
      }
    },
    {
      "cell_type": "code",
      "source": [
        "#primo modo\n",
        "massimo = max(lista)\n",
        "print(massimo)\n",
        "minimo = min(lista)\n",
        "print(minimo)\n",
        "\n",
        "#secondo modo\n",
        "min(lista)\n",
        "max(lista)"
      ],
      "metadata": {
        "colab": {
          "base_uri": "https://localhost:8080/"
        },
        "id": "K1aIY-wBK2EA",
        "outputId": "813222fe-3e91-4995-a3b5-23cb3b69376f"
      },
      "execution_count": null,
      "outputs": [
        {
          "output_type": "stream",
          "name": "stdout",
          "text": [
            "20\n",
            "1\n"
          ]
        },
        {
          "output_type": "execute_result",
          "data": {
            "text/plain": [
              "20"
            ]
          },
          "metadata": {},
          "execution_count": 17
        }
      ]
    },
    {
      "cell_type": "markdown",
      "source": [
        "8.effetuare operazione sugli elementi di una lista.\n"
      ],
      "metadata": {
        "id": "ZD6J0cPyFl4C"
      }
    },
    {
      "cell_type": "code",
      "source": [
        "#somma\n",
        "print(sum(lista))\n",
        "#media\n",
        "from statistics import mean\n",
        "print(mean(lista))\n",
        "#conta il umero di elemnti presenti in una lista\n",
        "print(len(lista))"
      ],
      "metadata": {
        "id": "Vp3ACoqHL0Uw"
      },
      "execution_count": null,
      "outputs": []
    },
    {
      "cell_type": "markdown",
      "source": [
        "9.ordinare gli elementi di una lista in ordine crescente e decrescente."
      ],
      "metadata": {
        "id": "u_YoWAZKFr8x"
      }
    },
    {
      "cell_type": "code",
      "source": [
        "#ordina in ordine crescente\n",
        "lista.sort()\n",
        "print(lista)\n",
        "#ordina in ordine decrescente\n",
        "lista.sort(reverse = True)\n",
        "print(lista)"
      ],
      "metadata": {
        "colab": {
          "base_uri": "https://localhost:8080/"
        },
        "id": "7A3-xXPiM00A",
        "outputId": "219ceace-ff77-4b0b-e383-81a9a6a73585"
      },
      "execution_count": null,
      "outputs": [
        {
          "output_type": "stream",
          "name": "stdout",
          "text": [
            "[1, 2, 3, 4, 5, 6, 7, 8, 9, 10, 10, 11, 12, 13, 20]\n",
            "[20, 13, 12, 11, 10, 10, 9, 8, 7, 6, 5, 4, 3, 2, 1]\n"
          ]
        }
      ]
    },
    {
      "cell_type": "markdown",
      "source": [
        "10.controllo"
      ],
      "metadata": {
        "id": "5vRiK6ffOVdI"
      }
    },
    {
      "cell_type": "code",
      "source": [
        "#controllo della presenza di un numero all'interno della lista(vero)\n",
        "9 in lista\n",
        "#controllo della presenza di un numero all'interno della lista(falso)\n",
        "1229 in lista"
      ],
      "metadata": {
        "colab": {
          "base_uri": "https://localhost:8080/"
        },
        "id": "rinyjq2rOCZJ",
        "outputId": "b472b7e3-d8bd-40d3-af98-d128fe758f08"
      },
      "execution_count": null,
      "outputs": [
        {
          "output_type": "execute_result",
          "data": {
            "text/plain": [
              "False"
            ]
          },
          "metadata": {},
          "execution_count": 35
        }
      ]
    },
    {
      "cell_type": "markdown",
      "source": [
        "trasformare una stringa in lista"
      ],
      "metadata": {
        "id": "PypGMb0VbVmG"
      }
    },
    {
      "cell_type": "code",
      "source": [
        "\n",
        "#visualizzare una parola lettera per lettera\n",
        "lista10 = \"ciao a tutti ragazzi come state\"\n",
        "print(lista10)\n",
        "lista11 = list(lista10)\n",
        "print(lista11)\n"
      ],
      "metadata": {
        "id": "5qhIzNlWbeHH"
      },
      "execution_count": null,
      "outputs": []
    },
    {
      "cell_type": "markdown",
      "source": [
        "rimuovere tutti gli elemnti uguali di una lista"
      ],
      "metadata": {
        "id": "IiJ9aVfZb3fW"
      }
    },
    {
      "cell_type": "code",
      "source": [
        "lista18 = [1,1,2,2,3,3,4,4,5,5,6,6,7,7,78,8,8,9,17,9,9,9]\n",
        "valueToBeRemoved = 9\n",
        "\n",
        "try:\n",
        "    while True:\n",
        "        lista18.remove(valueToBeRemoved)\n",
        "except ValueError:\n",
        "    pass\n",
        "    print(lista18)\n",
        "\n"
      ],
      "metadata": {
        "colab": {
          "base_uri": "https://localhost:8080/"
        },
        "id": "3w-WSFTlb1--",
        "outputId": "d44c87af-0196-438d-acc5-fa9a680c7d24"
      },
      "execution_count": null,
      "outputs": [
        {
          "output_type": "stream",
          "name": "stdout",
          "text": [
            "[1, 1, 2, 2, 3, 3, 4, 4, 5, 5, 6, 6, 7, 7, 78, 8, 8, 17]\n"
          ]
        }
      ]
    },
    {
      "cell_type": "markdown",
      "source": [
        "aggiunger eun elemento in una posizione occupata da un'altro elemento"
      ],
      "metadata": {
        "id": "1Nq2v-JfccRA"
      }
    },
    {
      "cell_type": "code",
      "source": [
        "lista=[1,2,3,4,5,6,7,8,9]\n",
        "lista.insert(lista.index(5),100)\n",
        "print(lista)"
      ],
      "metadata": {
        "colab": {
          "base_uri": "https://localhost:8080/"
        },
        "id": "mkGgn16XcUY8",
        "outputId": "e0285fbe-d0ce-49ec-f932-5eb900046293"
      },
      "execution_count": null,
      "outputs": [
        {
          "output_type": "stream",
          "name": "stdout",
          "text": [
            "[1, 2, 3, 4, 100, 5, 6, 7, 8, 9]\n"
          ]
        }
      ]
    },
    {
      "cell_type": "markdown",
      "source": [
        "eliminare uno dei duplicati"
      ],
      "metadata": {
        "id": "Pf2Id28wqH8S"
      }
    },
    {
      "cell_type": "code",
      "source": [
        "lista=[1,2,3,4,5,6,7,8,8,9]\n",
        "lista = list(dict.fromkeys(lista))\n",
        "print(lista)"
      ],
      "metadata": {
        "colab": {
          "base_uri": "https://localhost:8080/"
        },
        "id": "0xP2KuD7qJG0",
        "outputId": "2734feb9-b455-4115-b9bf-c73320911ba3"
      },
      "execution_count": null,
      "outputs": [
        {
          "output_type": "stream",
          "name": "stdout",
          "text": [
            "[1, 2, 3, 4, 5, 6, 7, 8, 9]\n"
          ]
        }
      ]
    },
    {
      "cell_type": "code",
      "source": [
        "lista=[1,2,3,4,5,6,7,8,9]\n",
        "if 5 % 2 == 0:\n",
        "    print(\"pari\")\n",
        "else:\n",
        "    print(\"dispari\")"
      ],
      "metadata": {
        "colab": {
          "base_uri": "https://localhost:8080/"
        },
        "id": "Xf2s9fN3qAfE",
        "outputId": "f19313a3-5306-4d14-c118-de8851a5cbe2"
      },
      "execution_count": null,
      "outputs": [
        {
          "output_type": "stream",
          "name": "stdout",
          "text": [
            "dispari\n"
          ]
        }
      ]
    }
  ]
}