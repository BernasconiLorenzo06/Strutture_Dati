{
  "nbformat": 4,
  "nbformat_minor": 0,
  "metadata": {
    "colab": {
      "provenance": [],
      "authorship_tag": "ABX9TyO4z4n7zrQwsY2L82Abh3LV",
      "include_colab_link": true
    },
    "kernelspec": {
      "name": "python3",
      "display_name": "Python 3"
    },
    "language_info": {
      "name": "python"
    }
  },
  "cells": [
    {
      "cell_type": "markdown",
      "metadata": {
        "id": "view-in-github",
        "colab_type": "text"
      },
      "source": [
        "<a href=\"https://colab.research.google.com/github/BernasconiLorenzo06/Strutture_Dati/blob/main/fila_1.ipynb\" target=\"_parent\"><img src=\"https://colab.research.google.com/assets/colab-badge.svg\" alt=\"Open In Colab\"/></a>"
      ]
    },
    {
      "cell_type": "markdown",
      "source": [],
      "metadata": {
        "id": "tf1h45WEv3VQ"
      }
    },
    {
      "cell_type": "markdown",
      "source": [
        "caricare una lista con i primi 50 multiopli di 5"
      ],
      "metadata": {
        "id": "GbYqEfAxv5B_"
      }
    },
    {
      "cell_type": "code",
      "execution_count": null,
      "metadata": {
        "colab": {
          "base_uri": "https://localhost:8080/"
        },
        "id": "NIOmN42Wvo31",
        "outputId": "a91cbc0a-c580-49b2-f1e6-5e762366b8f1"
      },
      "outputs": [
        {
          "output_type": "stream",
          "name": "stdout",
          "text": [
            "[5, 10, 15, 20, 25, 30, 35, 40, 45, 50, 55, 60, 65, 70, 75, 80, 85, 90, 95, 100, 105, 110, 115, 120, 125, 130, 135, 140, 145, 150, 155, 160, 165, 170, 175, 180, 185, 190, 195, 200, 205, 210, 215, 220, 225, 230, 235, 240, 245, 250]\n"
          ]
        }
      ],
      "source": [
        "multipli = [i for i in range (5,255,5)]\n",
        "print(multipli)"
      ]
    },
    {
      "cell_type": "code",
      "source": [
        "multipli = [i * 5 for i in range (0,51)]\n",
        "print(multipli)"
      ],
      "metadata": {
        "colab": {
          "base_uri": "https://localhost:8080/"
        },
        "id": "P9vtoOS9xN6H",
        "outputId": "f493b5b0-53ce-4f49-aa2e-0f3bb794f670"
      },
      "execution_count": null,
      "outputs": [
        {
          "output_type": "stream",
          "name": "stdout",
          "text": [
            "[0, 5, 10, 15, 20, 25, 30, 35, 40, 45, 50, 55, 60, 65, 70, 75, 80, 85, 90, 95, 100, 105, 110, 115, 120, 125, 130, 135, 140, 145, 150, 155, 160, 165, 170, 175, 180, 185, 190, 195, 200, 205, 210, 215, 220, 225, 230, 235, 240, 245, 250]\n"
          ]
        }
      ]
    },
    {
      "cell_type": "code",
      "source": [
        "multipli = [i for i in range (5,255) if i % 5 == 0]\n",
        "print(multipli)"
      ],
      "metadata": {
        "colab": {
          "base_uri": "https://localhost:8080/"
        },
        "id": "M6xRNOiXyHya",
        "outputId": "facb997a-5451-4e1d-e12e-94118bc9dfe6"
      },
      "execution_count": null,
      "outputs": [
        {
          "output_type": "stream",
          "name": "stdout",
          "text": [
            "[5, 10, 15, 20, 25, 30, 35, 40, 45, 50, 55, 60, 65, 70, 75, 80, 85, 90, 95, 100, 105, 110, 115, 120, 125, 130, 135, 140, 145, 150, 155, 160, 165, 170, 175, 180, 185, 190, 195, 200, 205, 210, 215, 220, 225, 230, 235, 240, 245, 250]\n"
          ]
        }
      ]
    },
    {
      "cell_type": "markdown",
      "source": [
        "elimanere dalla seconda lista tutti i valori  compresi fra 30 e 60+"
      ],
      "metadata": {
        "id": "sEgjeQT6BSIK"
      }
    },
    {
      "cell_type": "code",
      "source": [
        "conta = 0\n",
        "for num in multipli:\n",
        "  if num >= 30 and num <= 60:\n",
        "    multipli.remove(num)\n",
        "    conta += 1\n",
        "print(multipli)"
      ],
      "metadata": {
        "colab": {
          "base_uri": "https://localhost:8080/"
        },
        "id": "AKGv10RoAWQy",
        "outputId": "7e1f8f3e-23f0-4d37-eb71-d15a329d16cf"
      },
      "execution_count": null,
      "outputs": [
        {
          "output_type": "stream",
          "name": "stdout",
          "text": [
            "[5, 10, 15, 20, 25, 50, 65, 70, 75, 80, 85, 90, 95, 100, 105, 110, 115, 120, 125, 130, 135, 140, 145, 150, 155, 160, 165, 170, 175, 180, 185, 190, 195, 200, 205, 210, 215, 220, 225, 230, 235, 240, 245, 250]\n"
          ]
        }
      ]
    },
    {
      "cell_type": "markdown",
      "source": [
        "caricare in una nuova lista i 5 elemnti centrali"
      ],
      "metadata": {
        "id": "1BmR-SttDaPb"
      }
    },
    {
      "cell_type": "code",
      "source": [
        "print(len(multipli))\n",
        "print(multipli[len(multipli)//2-2 : len(multipli)//2+3])"
      ],
      "metadata": {
        "colab": {
          "base_uri": "https://localhost:8080/"
        },
        "id": "PoveO6NEDtk4",
        "outputId": "f148770f-d9e9-4cd2-bbfc-c4038e247dd5"
      },
      "execution_count": null,
      "outputs": [
        {
          "output_type": "stream",
          "name": "stdout",
          "text": [
            "44\n",
            "[135, 140, 145, 150, 155]\n"
          ]
        }
      ]
    },
    {
      "cell_type": "code",
      "source": [
        "prodotti = [for num*10 in moltiplicazioni]\n",
        "print(prodotti)"
      ],
      "metadata": {
        "id": "zu81xcU0FXvT"
      },
      "execution_count": null,
      "outputs": []
    },
    {
      "cell_type": "markdown",
      "source": [
        "mettere in  una lista tutti  i valori prsenti in un unica lista"
      ],
      "metadata": {
        "id": "3yh2v2NEGCDz"
      }
    }
  ]
}