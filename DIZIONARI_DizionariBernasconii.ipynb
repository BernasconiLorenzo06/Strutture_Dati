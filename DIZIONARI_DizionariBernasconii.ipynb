{
  "nbformat": 4,
  "nbformat_minor": 0,
  "metadata": {
    "colab": {
      "provenance": [],
      "collapsed_sections": [
        "YXIGwkL_N-w2",
        "6Y4p9e0sWixs",
        "ipLNR0X5Xfv6",
        "9lej0yFSn9Jq"
      ],
      "include_colab_link": true
    },
    "kernelspec": {
      "name": "python3",
      "display_name": "Python 3"
    },
    "language_info": {
      "name": "python"
    }
  },
  "cells": [
    {
      "cell_type": "markdown",
      "metadata": {
        "id": "view-in-github",
        "colab_type": "text"
      },
      "source": [
        "<a href=\"https://colab.research.google.com/github/BernasconiLorenzo06/Strutture_Dati/blob/main/DIZIONARI_DizionariBernasconii.ipynb\" target=\"_parent\"><img src=\"https://colab.research.google.com/assets/colab-badge.svg\" alt=\"Open In Colab\"/></a>"
      ]
    },
    {
      "cell_type": "markdown",
      "source": [
        "#Dizionari\n",
        "da https://www.w3schools.com/python/python_dictionaries.asp"
      ],
      "metadata": {
        "id": "YXIGwkL_N-w2"
      }
    },
    {
      "cell_type": "markdown",
      "source": [
        "I Dizionari sono collezioni ordinate, utilizzate per registrare serie di coppie di valori, formate da una chiave (Key) e un valore (Value)."
      ],
      "metadata": {
        "id": "r8THPYSqOSfg"
      }
    },
    {
      "cell_type": "code",
      "execution_count": null,
      "metadata": {
        "colab": {
          "base_uri": "https://localhost:8080/"
        },
        "id": "nDDWFMCGIJO0",
        "outputId": "2fb1699b-b157-4329-a721-f53a453b87bc"
      },
      "outputs": [
        {
          "output_type": "stream",
          "name": "stdout",
          "text": [
            "{'genere': 'maschio', 'età': '15', 'altezza': 200}\n"
          ]
        }
      ],
      "source": [
        "#Esempio\n",
        "carlo = {\n",
        "    \"genere\":\"maschio\",\n",
        "    \"età\":15,\n",
        "    \"altezza\":200\n",
        "}\n",
        "print(carlo)"
      ]
    },
    {
      "cell_type": "markdown",
      "source": [
        "Gli elementi all'interno dei dizionari sono ordinati, modificabili e non consentono duplicati."
      ],
      "metadata": {
        "id": "bW9ZbTJgP14h"
      }
    },
    {
      "cell_type": "code",
      "source": [
        "#Esempio\n",
        "carlo = {\n",
        "    \"genere\":\"femmina\",\n",
        "    \"genere\":\"maschio\",\n",
        "    \"età\":15,\n",
        "    \"altezza\":200\n",
        "}\n",
        "\n",
        "#La chiave \"genere\" ripetendosi 2 volte, verrà presa in considerazione solo l'ultima.\n",
        "\n",
        "print(carlo)"
      ],
      "metadata": {
        "colab": {
          "base_uri": "https://localhost:8080/"
        },
        "id": "N6yqzoZcQAVL",
        "outputId": "fa7a0bde-32c4-421f-84ea-617afb140caf"
      },
      "execution_count": null,
      "outputs": [
        {
          "output_type": "stream",
          "name": "stdout",
          "text": [
            "{'genere': 'maschio', 'età': '15', 'altezza': 200}\n"
          ]
        }
      ]
    },
    {
      "cell_type": "markdown",
      "source": [
        "#AGGIUNGERE-MODIFICARE-RIMUOVERE"
      ],
      "metadata": {
        "id": "YEeoit5wCMM_"
      }
    },
    {
      "cell_type": "code",
      "source": [
        "#Esempio\n",
        "carlo = {\n",
        "    \"genere\":\"maschio\",\n",
        "    \"età\":15,\n",
        "    \"altezza\":200\n",
        "}\n",
        "\n",
        "#Trattandosi di una collezione modificabile, possono essere aggiunti nuovi elementi\n",
        "carlo.update({\"cognome\":\"Borgheresi\"})\n",
        "carlo[\"capelli\"] = \"neri\"\n",
        "\n",
        "#Possono essere modificati\n",
        "carlo[\"genere\"] = \"femmina\"\n",
        "\n",
        "#Possono essere rimossi\n",
        "carlo.pop(\"età\") \n",
        "\n",
        "print(carlo)"
      ],
      "metadata": {
        "colab": {
          "base_uri": "https://localhost:8080/"
        },
        "id": "-1w-WihFSl3a",
        "outputId": "7e40da0f-f619-4111-9074-e25ff4ac5dd5"
      },
      "execution_count": null,
      "outputs": [
        {
          "output_type": "stream",
          "name": "stdout",
          "text": [
            "{'genere': 'femmina', 'altezza': 200, 'cognome': 'Borgheresi', 'capelli': 'neri'}\n"
          ]
        }
      ]
    },
    {
      "cell_type": "markdown",
      "source": [
        "Dizionari Nidificati - Nested Dictionaries"
      ],
      "metadata": {
        "id": "pevffdq1WcRY"
      }
    },
    {
      "cell_type": "code",
      "source": [
        "#Un dizionario può contenere altri dizionari\n",
        "\n",
        "famiglia = {\n",
        "    \"figlio0\" : {\n",
        "        \"nome\" : \"carlo\",\n",
        "        \"età\" : 15,\n",
        "        \"altezza\":200\n",
        "    },\n",
        "    \"figlio1\" : {\n",
        "            \"nome\" : \"gianni\",\n",
        "            \"età\" : 12,\n",
        "            \"altezza\":150\n",
        "        },\n",
        "}\n",
        "\n",
        "print(famiglia)\n",
        "\n",
        "#Puoi anche creare dei Dizionari formati da altri già esistenti\n",
        "\n",
        "figlio0 = {\n",
        "    \"nome\" : \"carlo\",\n",
        "    \"età\":15,\n",
        "    \"altezza\":200\n",
        "}\n",
        "\n",
        "figlio1 = {\n",
        "    \"nome\" : \"gianni\",\n",
        "    \"età\":12,\n",
        "    \"altezza\":150\n",
        "}\n",
        "\n",
        "famiglia = {\n",
        "    \"figlio0\" : figlio0,\n",
        "    \"figlio1\" : figlio1\n",
        "}\n",
        "\n",
        "\n",
        "print(famiglia)"
      ],
      "metadata": {
        "colab": {
          "base_uri": "https://localhost:8080/"
        },
        "id": "64vppF3PpRAn",
        "outputId": "4443b633-7d40-446f-ff57-edb0189f3b11"
      },
      "execution_count": null,
      "outputs": [
        {
          "output_type": "stream",
          "name": "stdout",
          "text": [
            "{'figlio0': {'nome': 'carlo', 'età': 15, 'altezza': 200}, 'figlio1': {'nome': 'gianni', 'età': 12, 'altezza': 150}}\n",
            "{'figlio0': {'nome': 'carlo', 'età': 15, 'altezza': 200}, 'figlio1': {'nome': 'gianni', 'età': 12, 'altezza': 150}}\n"
          ]
        }
      ]
    },
    {
      "cell_type": "markdown",
      "source": [
        "#Loop con i Dizionari\n",
        "da https://www.w3schools.com/python/python_dictionaries_loop.asp"
      ],
      "metadata": {
        "id": "6Y4p9e0sWixs"
      }
    },
    {
      "cell_type": "markdown",
      "source": [
        "**scrive solo le chiavi**"
      ],
      "metadata": {
        "id": "Q1bL4A4CCbV3"
      }
    },
    {
      "cell_type": "code",
      "source": [
        "#Ecco un elenco di for loops per visualizzare in un altro modo i \n",
        "\n",
        "carlo = {\n",
        "    \"genere\":\"maschio\",\n",
        "    \"età\":15,\n",
        "    \"altezza\":200\n",
        "}\n",
        "\n",
        "#Per visualizzare tutte le Chiavi\n",
        "\n",
        "for key in carlo:\n",
        "  print(key)\n",
        "\n",
        "#Oppure\n",
        "\n",
        "for x in carlo.keys():\n",
        "  print(key)"
      ],
      "metadata": {
        "colab": {
          "base_uri": "https://localhost:8080/"
        },
        "id": "4E0iA6J4Wgt8",
        "outputId": "1509d070-5e6c-452a-c74c-7062e18b06a3"
      },
      "execution_count": null,
      "outputs": [
        {
          "output_type": "stream",
          "name": "stdout",
          "text": [
            "genere\n",
            "età\n",
            "altezza\n",
            "genere\n",
            "età\n",
            "altezza\n"
          ]
        }
      ]
    },
    {
      "cell_type": "markdown",
      "source": [
        "**scrive solo i valori**"
      ],
      "metadata": {
        "id": "c3nxsWKLCiv_"
      }
    },
    {
      "cell_type": "code",
      "source": [
        "#Per visualizzare tutti i Valori\n",
        "\n",
        "for key in carlo:\n",
        "  print(carlo[key])\n",
        "\n",
        "#Oppure\n",
        "\n",
        "for value in carlo.values():\n",
        "  print(key)"
      ],
      "metadata": {
        "colab": {
          "base_uri": "https://localhost:8080/"
        },
        "id": "uAyG4YdZYCdn",
        "outputId": "4dda66e0-3cf7-45ba-ef28-4b3650f5765c"
      },
      "execution_count": null,
      "outputs": [
        {
          "output_type": "stream",
          "name": "stdout",
          "text": [
            "maschio\n",
            "15\n",
            "200\n",
            "maschio\n",
            "15\n",
            "200\n"
          ]
        }
      ]
    },
    {
      "cell_type": "markdown",
      "source": [
        "**scrive valori e chiavi assime**"
      ],
      "metadata": {
        "id": "A1RwGEOdCnwn"
      }
    },
    {
      "cell_type": "code",
      "source": [
        "#Per visualizzare tutte le coppie Chiave-Valore\n",
        "\n",
        "for key,value  in carlo.items():\n",
        "  print(key, value)"
      ],
      "metadata": {
        "colab": {
          "base_uri": "https://localhost:8080/"
        },
        "id": "5rhN_aaQYDxb",
        "outputId": "1ed95d06-412b-4326-8558-3ef41b67374a"
      },
      "execution_count": null,
      "outputs": [
        {
          "output_type": "stream",
          "name": "stdout",
          "text": [
            "genere maschio\n",
            "età 15\n",
            "altezza 200\n"
          ]
        }
      ]
    },
    {
      "cell_type": "markdown",
      "source": [
        "#Metodi\n",
        "da https://www.w3schools.com/python/python_dictionaries_methods.asp"
      ],
      "metadata": {
        "id": "ipLNR0X5Xfv6"
      }
    },
    {
      "cell_type": "markdown",
      "source": [
        "**clear()**"
      ],
      "metadata": {
        "id": "RZH9o_PkneKF"
      }
    },
    {
      "cell_type": "code",
      "source": [
        "#Rimuove tutti gli elementi all'interno di un Dizionario\n",
        "\n",
        "LuigiXVI = {\n",
        "    \"genere\":\"maschio\",\n",
        "    \"età\":38\n",
        "}\n",
        "\n",
        "LuigiXVI.clear()\n",
        "print(LuigiXVI)"
      ],
      "metadata": {
        "colab": {
          "base_uri": "https://localhost:8080/"
        },
        "id": "geOu2L5XnduZ",
        "outputId": "bad07f6c-701f-4a4a-af99-95ba6ade33d4"
      },
      "execution_count": null,
      "outputs": [
        {
          "output_type": "stream",
          "name": "stdout",
          "text": [
            "{}\n"
          ]
        }
      ]
    },
    {
      "cell_type": "markdown",
      "source": [
        "**copy()**"
      ],
      "metadata": {
        "id": "ZjjYATHYpE-1"
      }
    },
    {
      "cell_type": "code",
      "source": [
        "#Copia gli elementi di un Dizionario in un altro\n",
        "\n",
        "fifa22 = {\n",
        "    \"sviluppo\":\"EA Sports\",\n",
        "    \"genere\":\"Calcio\",\n",
        "    \"prezzo\":\"70€\" \n",
        "}\n",
        "\n",
        "fifa23 = fifa22.copy()\n",
        "print(fifa23)"
      ],
      "metadata": {
        "id": "m28vqGVyXkkh",
        "colab": {
          "base_uri": "https://localhost:8080/"
        },
        "outputId": "7e58461b-d28b-4b8f-809c-f9e7fc445e7f"
      },
      "execution_count": null,
      "outputs": [
        {
          "output_type": "stream",
          "name": "stdout",
          "text": [
            "{'sviluppo': 'EA Sports', 'genere': 'Calcio', 'prezzo': '70€'}\n"
          ]
        }
      ]
    },
    {
      "cell_type": "markdown",
      "source": [
        "**fromkeys()**"
      ],
      "metadata": {
        "id": "Usj_IUoDpS4x"
      }
    },
    {
      "cell_type": "code",
      "source": [
        "#Assegna ad ogni chiave un valore uguale\n",
        "#Le chiavi sono prese da una tupla e il valore da una seconda varibile\n",
        "\n",
        "key = (\"autostima\", \"motivazione\", \"felicità\")\n",
        "value = 0\n",
        "\n",
        "vita = dict.fromkeys(key, value) #dict specifica il dizionari \n",
        "print(vita)\n"
      ],
      "metadata": {
        "colab": {
          "base_uri": "https://localhost:8080/"
        },
        "id": "cXRMnpbdpSzE",
        "outputId": "1fc88a10-ed04-4874-b1b7-089e9144bfd1"
      },
      "execution_count": null,
      "outputs": [
        {
          "output_type": "stream",
          "name": "stdout",
          "text": [
            "{'autostima': 0, 'motivazione': 0, 'felicità': 0}\n"
          ]
        }
      ]
    },
    {
      "cell_type": "markdown",
      "source": [
        "**get()**"
      ],
      "metadata": {
        "id": "CqZOSAEPpSs9"
      }
    },
    {
      "cell_type": "code",
      "source": [
        "#Prende il valore associato alla chiave specificata\n",
        "\n",
        "carlo = {\n",
        "    \"genere\":\"maschio\",\n",
        "    \"età\":15,\n",
        "    \"altezza\":200\n",
        "}\n",
        "\n",
        "centimetri = carlo.get('altezza')\n",
        "print(centimetri)\n",
        "\n",
        "#Prende anche il valore di un elemento che non è presente nella lista\n",
        "\n",
        "fidanzata = carlo.get('fidanzata')\n",
        "print(fidanzata)\n"
      ],
      "metadata": {
        "colab": {
          "base_uri": "https://localhost:8080/"
        },
        "id": "Dapxx67apSnI",
        "outputId": "4bfbb234-885c-42c9-d64a-28550f898e9c"
      },
      "execution_count": null,
      "outputs": [
        {
          "output_type": "stream",
          "name": "stdout",
          "text": [
            "200\n",
            "None\n"
          ]
        }
      ]
    },
    {
      "cell_type": "markdown",
      "source": [
        "**items()**"
      ],
      "metadata": {
        "id": "fxLbRNnypShc"
      }
    },
    {
      "cell_type": "code",
      "source": [
        "#Restituisce un view object che contiene come lista le coppie di chiave-valore in un Dizionario\n",
        "\n",
        "carlo = {\n",
        "    \"genere\":\"maschio\",\n",
        "    \"età\":15,\n",
        "    \"altezza\":200\n",
        "}\n",
        "\n",
        "studente1 = carlo.items()\n",
        "print(studente1)\n"
      ],
      "metadata": {
        "colab": {
          "base_uri": "https://localhost:8080/"
        },
        "id": "Y6zYBRXMpSb7",
        "outputId": "2d28a468-6aa7-4f26-bdfb-682e6f8c4e99"
      },
      "execution_count": null,
      "outputs": [
        {
          "output_type": "stream",
          "name": "stdout",
          "text": [
            "dict_items([('genere', 'maschio'), ('età', 15), ('altezza', 200)])\n"
          ]
        }
      ]
    },
    {
      "cell_type": "code",
      "source": [
        "#Quando un elemento all'interno del Dizionario cambia valore, cambia anche nella nuova variabile\n",
        "\n",
        "carlo = {\n",
        "    \"genere\":\"maschio\",\n",
        "    \"età\":15,\n",
        "    \"altezza\":200\n",
        "}\n",
        "\n",
        "studente1 = carlo.items()\n",
        "print(studente1)\n",
        "\n",
        "carlo['età'] = 16\n",
        "print(studente1)"
      ],
      "metadata": {
        "colab": {
          "base_uri": "https://localhost:8080/"
        },
        "id": "JrvLfiWwxk9C",
        "outputId": "e351b851-cdbc-4a36-80a2-93f3c53c9ce3"
      },
      "execution_count": null,
      "outputs": [
        {
          "output_type": "stream",
          "name": "stdout",
          "text": [
            "dict_items([('genere', 'maschio'), ('età', 15), ('altezza', 200)])\n",
            "dict_items([('genere', 'maschio'), ('età', 16), ('altezza', 200)])\n"
          ]
        }
      ]
    },
    {
      "cell_type": "markdown",
      "source": [
        "**keys()**"
      ],
      "metadata": {
        "id": "JTHihs1xpSUd"
      }
    },
    {
      "cell_type": "code",
      "source": [
        "#Restituisce un view object che contiene come lista le chiavi in un Dizionario\n",
        "\n",
        "carlo = {\n",
        "    \"genere\":\"maschio\",\n",
        "    \"età\":15,\n",
        "    \"altezza\":200\n",
        "}\n",
        "\n",
        "umano = carlo.keys()\n",
        "print(umano)\n",
        "\n",
        "#Riflette i cambiamenti\n",
        "\n",
        "carlo['capelli'] = 'neri' #aggiunge un elemento\n",
        "print(umano)"
      ],
      "metadata": {
        "colab": {
          "base_uri": "https://localhost:8080/"
        },
        "id": "CD9N1TzwpSOx",
        "outputId": "36579637-5321-4016-c928-1f62dc698e92"
      },
      "execution_count": null,
      "outputs": [
        {
          "output_type": "stream",
          "name": "stdout",
          "text": [
            "dict_keys(['genere', 'età', 'altezza'])\n",
            "dict_keys(['genere', 'età', 'altezza', 'capelli'])\n"
          ]
        }
      ]
    },
    {
      "cell_type": "markdown",
      "source": [
        "**values()**"
      ],
      "metadata": {
        "id": "NLXngcuqAH0i"
      }
    },
    {
      "cell_type": "code",
      "source": [
        "#Restituisce un view object che contiene come lista i valori in un Dizionario\n",
        "\n",
        "carlo = {\n",
        "    \"genere\":\"maschio\",\n",
        "    \"età\":15,\n",
        "    \"altezza\":200\n",
        "}\n",
        "\n",
        "decontensto = carlo.values()\n",
        "print(decontensto)\n"
      ],
      "metadata": {
        "colab": {
          "base_uri": "https://localhost:8080/"
        },
        "id": "gp9E3QzgAIE7",
        "outputId": "44d48bdc-8d82-4c3e-86f3-a8dae5a8096f"
      },
      "execution_count": null,
      "outputs": [
        {
          "output_type": "stream",
          "name": "stdout",
          "text": [
            "dict_values(['maschio', 15, 200])\n"
          ]
        }
      ]
    },
    {
      "cell_type": "markdown",
      "source": [
        "**pop()**"
      ],
      "metadata": {
        "id": "0x2lS3f7pSJQ"
      }
    },
    {
      "cell_type": "code",
      "source": [
        "#Rimuove una chiave e il suo valore dal Dizionario\n",
        "\n",
        "carlo = {\n",
        "    \"genere\":\"maschio\",\n",
        "    \"età\":15,\n",
        "    \"altezza\":200\n",
        "}\n",
        "\n",
        "carlo.pop('genere')\n",
        "print(carlo)"
      ],
      "metadata": {
        "colab": {
          "base_uri": "https://localhost:8080/"
        },
        "id": "5fErBMT2pSCl",
        "outputId": "f1b4cc2f-43f2-4cf2-a289-45ac9732a3a8"
      },
      "execution_count": null,
      "outputs": [
        {
          "output_type": "stream",
          "name": "stdout",
          "text": [
            "{'età': 15, 'altezza': 200}\n"
          ]
        }
      ]
    },
    {
      "cell_type": "markdown",
      "source": [
        "**popitem()**"
      ],
      "metadata": {
        "id": "j9G0cSVUpR7H"
      }
    },
    {
      "cell_type": "code",
      "source": [
        "#Rimuove l'ultimo elemento aggiunto e restituisce un view object contenente esso \n",
        "\n",
        "carlo = {\n",
        "    \"genere\":\"maschio\",\n",
        "    \"età\":15,\n",
        "    \"altezza\":200\n",
        "}\n",
        "\n",
        "carlo.popitem()\n",
        "print(carlo)\n",
        "\n",
        "cestino = carlo.popitem()\n",
        "print(cestino)"
      ],
      "metadata": {
        "colab": {
          "base_uri": "https://localhost:8080/"
        },
        "id": "82bFxjs2pRvu",
        "outputId": "a12402c1-b818-46aa-d9a7-678e13e7712a"
      },
      "execution_count": null,
      "outputs": [
        {
          "output_type": "stream",
          "name": "stdout",
          "text": [
            "{'genere': 'maschio', 'età': 15}\n",
            "('età', 15)\n"
          ]
        }
      ]
    },
    {
      "cell_type": "markdown",
      "source": [
        "**setdefault()**"
      ],
      "metadata": {
        "id": "xYiXYi4YpOpo"
      }
    },
    {
      "cell_type": "code",
      "source": [
        "#Restituisce il valore associato alla chiave specificata\n",
        "\n",
        "carlo = {\n",
        "    \"genere\":\"maschio\",\n",
        "    \"età\":15,\n",
        "    \"altezza\":200\n",
        "}\n",
        "\n",
        "vecchiaia = carlo.setdefault('età')\n",
        "print(vecchiaia)\n",
        "\n",
        "vecchiaia = carlo.setdefault('capelli')\n",
        "print(vecchiaia)"
      ],
      "metadata": {
        "colab": {
          "base_uri": "https://localhost:8080/"
        },
        "id": "V5K1qn0lpP0U",
        "outputId": "6e5f3639-6963-47b9-e93d-079b56d8375e"
      },
      "execution_count": null,
      "outputs": [
        {
          "output_type": "stream",
          "name": "stdout",
          "text": [
            "15\n",
            "None\n"
          ]
        }
      ]
    },
    {
      "cell_type": "markdown",
      "source": [
        "#Esercizi"
      ],
      "metadata": {
        "id": "9lej0yFSn9Jq"
      }
    },
    {
      "cell_type": "markdown",
      "source": [
        "1. Crea un dizionario che contenga il tuo nome, cognome ed età "
      ],
      "metadata": {
        "id": "PApSI38XoAVv"
      }
    },
    {
      "cell_type": "code",
      "source": [
        "me = {\"nome\":\"lorenzo\",\n",
        "      \"cognome\":\"bernasconi\",\n",
        "      \"età\":16,   \n",
        "}\n",
        "print(me)"
      ],
      "metadata": {
        "id": "QqMTHnZKn_Vk",
        "colab": {
          "base_uri": "https://localhost:8080/"
        },
        "outputId": "caa98fb2-5258-43ef-a70e-174f933a59f9"
      },
      "execution_count": null,
      "outputs": [
        {
          "output_type": "stream",
          "name": "stdout",
          "text": [
            "{'nome': 'lorenzo', 'cognome': 'bernasconi', 'età': 16}\n"
          ]
        }
      ]
    },
    {
      "cell_type": "markdown",
      "source": [
        "2. Aggiungi al dizionario la tua altezza"
      ],
      "metadata": {
        "id": "S7Ibgr1GoXLf"
      }
    },
    {
      "cell_type": "code",
      "source": [
        "me[\"altezza\"] = 180\n",
        "print(me)"
      ],
      "metadata": {
        "id": "bhKQszWGp1U_",
        "colab": {
          "base_uri": "https://localhost:8080/"
        },
        "outputId": "1ca5a16d-2033-497f-a70f-61dbea988f65"
      },
      "execution_count": null,
      "outputs": [
        {
          "output_type": "stream",
          "name": "stdout",
          "text": [
            "{'nome': 'lorenzo', 'cognome': 'bernasconi', 'età': 16, 'altezza': 180}\n"
          ]
        }
      ]
    },
    {
      "cell_type": "markdown",
      "source": [
        "3. Cambia la tua altezza con quella di Goku (175 cm)"
      ],
      "metadata": {
        "id": "-RXBHj9np1h5"
      }
    },
    {
      "cell_type": "code",
      "source": [
        "me[\"altezza\"] = 175\n",
        "print(me)"
      ],
      "metadata": {
        "id": "_TxY5IyFqKMs",
        "colab": {
          "base_uri": "https://localhost:8080/"
        },
        "outputId": "80d9ef55-a64b-4416-c6aa-444bcfae234b"
      },
      "execution_count": null,
      "outputs": [
        {
          "output_type": "stream",
          "name": "stdout",
          "text": [
            "{'nome': 'lorenzo', 'cognome': 'bernasconi', 'età': 16, 'altezza': 175}\n"
          ]
        }
      ]
    },
    {
      "cell_type": "markdown",
      "source": [
        "4. Visualizza il numero di chiavi"
      ],
      "metadata": {
        "id": "iGniB7HzqKZ6"
      }
    },
    {
      "cell_type": "code",
      "source": [
        "len(me.keys())"
      ],
      "metadata": {
        "id": "XZXX713PqrTU",
        "colab": {
          "base_uri": "https://localhost:8080/"
        },
        "outputId": "57cd54df-bc18-427b-9a3a-c0065aa4df9b"
      },
      "execution_count": null,
      "outputs": [
        {
          "output_type": "execute_result",
          "data": {
            "text/plain": [
              "4"
            ]
          },
          "metadata": {},
          "execution_count": 5
        }
      ]
    },
    {
      "cell_type": "markdown",
      "source": [
        "5. Visualizza la seconda chiave"
      ],
      "metadata": {
        "id": "q_0zk6mrqt7-"
      }
    },
    {
      "cell_type": "code",
      "source": [
        "#metodo 1\n",
        "keys = list(me.keys())\n",
        "print(keys[1])"
      ],
      "metadata": {
        "id": "HgYlBic4qsxE",
        "colab": {
          "base_uri": "https://localhost:8080/"
        },
        "outputId": "a6d1ceeb-9f39-41c6-acb2-46fe5e52d379"
      },
      "execution_count": null,
      "outputs": [
        {
          "output_type": "stream",
          "name": "stdout",
          "text": [
            "cognome\n"
          ]
        }
      ]
    },
    {
      "cell_type": "markdown",
      "source": [
        "6. Crea un nuovo dizionario uguale al primo"
      ],
      "metadata": {
        "id": "dIauu1huqsat"
      }
    },
    {
      "cell_type": "code",
      "source": [
        "me2=me.copy()\n",
        "print(me2)"
      ],
      "metadata": {
        "id": "m0gS8qXIquaQ",
        "colab": {
          "base_uri": "https://localhost:8080/"
        },
        "outputId": "898c2942-b996-4e79-9ae6-038cec36e656"
      },
      "execution_count": null,
      "outputs": [
        {
          "output_type": "stream",
          "name": "stdout",
          "text": [
            "{'nome': 'lorenzo', 'cognome': 'bernasconi', 'età': 16, 'altezza': 175}\n"
          ]
        }
      ]
    },
    {
      "cell_type": "markdown",
      "source": [
        "7. Svuota il nuovo dizionario e visualizza il primo"
      ],
      "metadata": {
        "id": "WYoAw7Morar-"
      }
    },
    {
      "cell_type": "code",
      "source": [
        "me2.clear()\n",
        "print(me)"
      ],
      "metadata": {
        "id": "7WT4q624raW9",
        "colab": {
          "base_uri": "https://localhost:8080/"
        },
        "outputId": "61a928a7-b1f6-42a0-8aea-18d1114ed709"
      },
      "execution_count": null,
      "outputs": [
        {
          "output_type": "stream",
          "name": "stdout",
          "text": [
            "{'nome': 'lorenzo', 'cognome': 'bernasconi', 'età': 16, 'altezza': 175}\n"
          ]
        }
      ]
    },
    {
      "cell_type": "markdown",
      "source": [
        "8. Nel secondo dizionario inserisci le chiavi \"batte\", \"forte\", \"sempre\" e assegna ad ognuna il valore \"comodino\"."
      ],
      "metadata": {
        "id": "XZY5GJA-rilG"
      }
    },
    {
      "cell_type": "code",
      "source": [
        "key = (\"batte\", \"forte\", \"sempre\")\n",
        "value = \"comodino\"\n",
        "\n",
        "me2 = dict.fromkeys(key, value) \n",
        "print(me2)"
      ],
      "metadata": {
        "id": "R8wJB1aeri8j",
        "colab": {
          "base_uri": "https://localhost:8080/"
        },
        "outputId": "250cb00f-73a5-479f-f9b3-466c6ace2792"
      },
      "execution_count": null,
      "outputs": [
        {
          "output_type": "stream",
          "name": "stdout",
          "text": [
            "{'batte': 'comodino', 'forte': 'comodino', 'sempre': 'comodino'}\n"
          ]
        }
      ]
    },
    {
      "cell_type": "markdown",
      "source": [
        "9. Visualizza con un ciclo tutti gli elementi presenti nel secondo dizionario"
      ],
      "metadata": {
        "id": "MdEW9kpZss6B"
      }
    },
    {
      "cell_type": "code",
      "source": [
        "for keys in me2:\n",
        "  print(keys,me2[keys])"
      ],
      "metadata": {
        "id": "RZE6VL--tEXw",
        "colab": {
          "base_uri": "https://localhost:8080/"
        },
        "outputId": "b10f0086-c3e6-417a-8508-67a5dbf9241b"
      },
      "execution_count": null,
      "outputs": [
        {
          "output_type": "stream",
          "name": "stdout",
          "text": [
            "batte comodino\n",
            "forte comodino\n",
            "sempre comodino\n"
          ]
        }
      ]
    },
    {
      "cell_type": "markdown",
      "source": [
        "10. Rimuovi il valore della seconda chiave del secondo dizionario"
      ],
      "metadata": {
        "id": "QYRBcxZhtErM"
      }
    },
    {
      "cell_type": "code",
      "source": [
        "\n",
        "  me2.pop(keys[1])\n",
        "print(me2)"
      ],
      "metadata": {
        "id": "6ALtbmqRudyG",
        "colab": {
          "base_uri": "https://localhost:8080/",
          "height": 182
        },
        "outputId": "cfabee47-52e6-4eee-b958-b8601d52ed22"
      },
      "execution_count": null,
      "outputs": [
        {
          "output_type": "error",
          "ename": "KeyError",
          "evalue": "ignored",
          "traceback": [
            "\u001b[0;31m---------------------------------------------------------------------------\u001b[0m",
            "\u001b[0;31mKeyError\u001b[0m                                  Traceback (most recent call last)",
            "\u001b[0;32m<ipython-input-21-d1f1d9ec849c>\u001b[0m in \u001b[0;36m<module>\u001b[0;34m\u001b[0m\n\u001b[0;32m----> 1\u001b[0;31m \u001b[0mme2\u001b[0m\u001b[0;34m.\u001b[0m\u001b[0mpop\u001b[0m\u001b[0;34m(\u001b[0m\u001b[0mkeys\u001b[0m\u001b[0;34m[\u001b[0m\u001b[0;36m1\u001b[0m\u001b[0;34m]\u001b[0m\u001b[0;34m)\u001b[0m\u001b[0;34m\u001b[0m\u001b[0;34m\u001b[0m\u001b[0m\n\u001b[0m\u001b[1;32m      2\u001b[0m \u001b[0mprint\u001b[0m\u001b[0;34m(\u001b[0m\u001b[0mme2\u001b[0m\u001b[0;34m)\u001b[0m\u001b[0;34m\u001b[0m\u001b[0;34m\u001b[0m\u001b[0m\n",
            "\u001b[0;31mKeyError\u001b[0m: 'a'"
          ]
        }
      ]
    },
    {
      "cell_type": "markdown",
      "source": [
        "11. Crea un dizionario chiamato Dizionarione che contenga sia il primo che il secondo"
      ],
      "metadata": {
        "id": "VRmozyp2upEl"
      }
    },
    {
      "cell_type": "code",
      "source": [
        "dizionarione = famiglia = {\n",
        "    \"me\" : me,\n",
        "    \"me2\" : me2\n",
        "}\n",
        "\n",
        "print(dizionarione)\n"
      ],
      "metadata": {
        "id": "TOc3AwPbuonN",
        "colab": {
          "base_uri": "https://localhost:8080/"
        },
        "outputId": "f6d4870d-c2fe-4eb6-8e58-954a1c5b761b"
      },
      "execution_count": null,
      "outputs": [
        {
          "output_type": "stream",
          "name": "stdout",
          "text": [
            "{'me': {'nome': 'lorenzo', 'cognome': 'bernasconi', 'età': 16, 'altezza': 175}, 'me2': {'batte': 'comodino', 'forte': 'comodino', 'sempre': 'comodino'}}\n"
          ]
        }
      ]
    },
    {
      "cell_type": "markdown",
      "source": [
        "12. Aggiungi a Dizionarione un terzo dizionario che contenga 3 chiavi e 3 valori a tua scelta"
      ],
      "metadata": {
        "id": "wZVJ4FHywgRz"
      }
    },
    {
      "cell_type": "code",
      "source": [
        "gino = {\n",
        "    \"nome\":\"gino\",\n",
        "    \"soprannome\":\"pino\",\n",
        "    \"anni\":29\n",
        "}\n",
        "print(gino)\n",
        "\n",
        "Dizionarionepiupino = {\n",
        "    \"dizionarione\":dizionarione,\n",
        "    \"gino\":gino\n",
        "}\n",
        "print(Dizionarionepiupino)"
      ],
      "metadata": {
        "id": "3yKMd-6qwgg6",
        "colab": {
          "base_uri": "https://localhost:8080/"
        },
        "outputId": "49c29285-a050-4b24-d2d4-bf15317e7af2"
      },
      "execution_count": null,
      "outputs": [
        {
          "output_type": "stream",
          "name": "stdout",
          "text": [
            "{'nome': 'gino', 'soprannome': 'pino', 'anni': 29}\n",
            "{'dizionarione': {'me': {'nome': 'lorenzo', 'cognome': 'bernasconi', 'età': 16, 'altezza': 175}, 'me2': {'batte': 'comodino', 'forte': 'comodino', 'sempre': 'comodino'}}, 'gino': {'nome': 'gino', 'soprannome': 'pino', 'anni': 29}}\n"
          ]
        }
      ]
    },
    {
      "cell_type": "markdown",
      "source": [
        "13. Rimuovi il terzo dizionario da Dizionarione e visualizzalo"
      ],
      "metadata": {
        "id": "SR6Qslrou3Fj"
      }
    },
    {
      "cell_type": "code",
      "source": [
        "dict.clear(gino)\n",
        "print(Dizionarionepiupino)"
      ],
      "metadata": {
        "id": "AJKe5vX9wDcc",
        "colab": {
          "base_uri": "https://localhost:8080/"
        },
        "outputId": "60957361-5cc3-4cf1-dfd3-40227d3a7f36"
      },
      "execution_count": null,
      "outputs": [
        {
          "output_type": "stream",
          "name": "stdout",
          "text": [
            "{'dizionarione': {'me': {'nome': 'lorenzo', 'cognome': 'bernasconi', 'età': 16, 'altezza': 175}, 'me2': {'batte': 'comodino', 'forte': 'comodino', 'sempre': 'comodino'}}, 'gino': {}}\n"
          ]
        }
      ]
    }
  ]
}